{
 "cells": [
  {
   "cell_type": "markdown",
   "id": "f547e2ef",
   "metadata": {},
   "source": [
    "# Graded Challenge 3"
   ]
  },
  {
   "cell_type": "markdown",
   "id": "5930c3f3",
   "metadata": {},
   "source": [
    "## Perkenalan"
   ]
  },
  {
   "cell_type": "markdown",
   "id": "d090ba93",
   "metadata": {},
   "source": [
    "- Nama : Elita Kabayeva\n",
    "- Batch : 008"
   ]
  },
  {
   "cell_type": "markdown",
   "id": "f061eec3",
   "metadata": {},
   "source": [
    "## Tujuan\n",
    "1. Untuk membuat model Machine Learning dari Dataset yang diberikan dengan menggunakan Random Forest dan Boosting.\n",
    "2. Membuat penarikan kesimpulan dari model yang telah dibuat."
   ]
  },
  {
   "cell_type": "markdown",
   "id": "ac426854",
   "metadata": {},
   "source": [
    "## Import Libraries"
   ]
  },
  {
   "cell_type": "markdown",
   "id": "f8ca2ffa",
   "metadata": {},
   "source": [
    "Untuk memulai, pertama-tama kita harus mengimport libraries yang akan digunakan. Sebagai permulaan, berikut adalah libraries utama yang diimport:"
   ]
  },
  {
   "cell_type": "code",
   "execution_count": 1,
   "id": "827b1e6b",
   "metadata": {},
   "outputs": [],
   "source": [
    "import warnings\n",
    "warnings.filterwarnings('ignore')\n",
    "\n",
    "import pandas as pd\n",
    "import numpy as np\n",
    "import matplotlib.pyplot as plt\n",
    "import seaborn as sns"
   ]
  },
  {
   "cell_type": "markdown",
   "id": "400b14eb",
   "metadata": {},
   "source": [
    "## Data Loading"
   ]
  },
  {
   "cell_type": "markdown",
   "id": "37135d6d",
   "metadata": {},
   "source": [
    "Kemudian, dataset yang akan digunakan di import. Pada kasus ini, dataset yang akan digunakan di assign ke variabel 'data' dan dibuat juga copy dari data tersebut sebagai backup"
   ]
  },
  {
   "cell_type": "code",
   "execution_count": 2,
   "id": "80855f52",
   "metadata": {},
   "outputs": [],
   "source": [
    "data = pd.read_csv('heart_failure_clinical_records_dataset.csv')\n",
    "data_ori = data.copy"
   ]
  },
  {
   "cell_type": "markdown",
   "id": "924c2461",
   "metadata": {},
   "source": [
    "Untuk mendapat gambaran awal dari data, kita melihat shapenya terlebih dahulu:"
   ]
  },
  {
   "cell_type": "code",
   "execution_count": 3,
   "id": "9fdd5436",
   "metadata": {},
   "outputs": [
    {
     "data": {
      "text/plain": [
       "(299, 13)"
      ]
     },
     "execution_count": 3,
     "metadata": {},
     "output_type": "execute_result"
    }
   ],
   "source": [
    "data.shape"
   ]
  },
  {
   "cell_type": "markdown",
   "id": "d9666153",
   "metadata": {},
   "source": [
    "Lalu dilihat juga 5 data awal:"
   ]
  },
  {
   "cell_type": "code",
   "execution_count": 4,
   "id": "9e5ede6e",
   "metadata": {},
   "outputs": [
    {
     "data": {
      "text/html": [
       "<div>\n",
       "<style scoped>\n",
       "    .dataframe tbody tr th:only-of-type {\n",
       "        vertical-align: middle;\n",
       "    }\n",
       "\n",
       "    .dataframe tbody tr th {\n",
       "        vertical-align: top;\n",
       "    }\n",
       "\n",
       "    .dataframe thead th {\n",
       "        text-align: right;\n",
       "    }\n",
       "</style>\n",
       "<table border=\"1\" class=\"dataframe\">\n",
       "  <thead>\n",
       "    <tr style=\"text-align: right;\">\n",
       "      <th></th>\n",
       "      <th>age</th>\n",
       "      <th>anaemia</th>\n",
       "      <th>creatinine_phosphokinase</th>\n",
       "      <th>diabetes</th>\n",
       "      <th>ejection_fraction</th>\n",
       "      <th>high_blood_pressure</th>\n",
       "      <th>platelets</th>\n",
       "      <th>serum_creatinine</th>\n",
       "      <th>serum_sodium</th>\n",
       "      <th>sex</th>\n",
       "      <th>smoking</th>\n",
       "      <th>time</th>\n",
       "      <th>DEATH_EVENT</th>\n",
       "    </tr>\n",
       "  </thead>\n",
       "  <tbody>\n",
       "    <tr>\n",
       "      <th>0</th>\n",
       "      <td>75.0</td>\n",
       "      <td>0</td>\n",
       "      <td>582</td>\n",
       "      <td>0</td>\n",
       "      <td>20</td>\n",
       "      <td>1</td>\n",
       "      <td>265000.00</td>\n",
       "      <td>1.9</td>\n",
       "      <td>130</td>\n",
       "      <td>1</td>\n",
       "      <td>0</td>\n",
       "      <td>4</td>\n",
       "      <td>1</td>\n",
       "    </tr>\n",
       "    <tr>\n",
       "      <th>1</th>\n",
       "      <td>55.0</td>\n",
       "      <td>0</td>\n",
       "      <td>7861</td>\n",
       "      <td>0</td>\n",
       "      <td>38</td>\n",
       "      <td>0</td>\n",
       "      <td>263358.03</td>\n",
       "      <td>1.1</td>\n",
       "      <td>136</td>\n",
       "      <td>1</td>\n",
       "      <td>0</td>\n",
       "      <td>6</td>\n",
       "      <td>1</td>\n",
       "    </tr>\n",
       "    <tr>\n",
       "      <th>2</th>\n",
       "      <td>65.0</td>\n",
       "      <td>0</td>\n",
       "      <td>146</td>\n",
       "      <td>0</td>\n",
       "      <td>20</td>\n",
       "      <td>0</td>\n",
       "      <td>162000.00</td>\n",
       "      <td>1.3</td>\n",
       "      <td>129</td>\n",
       "      <td>1</td>\n",
       "      <td>1</td>\n",
       "      <td>7</td>\n",
       "      <td>1</td>\n",
       "    </tr>\n",
       "    <tr>\n",
       "      <th>3</th>\n",
       "      <td>50.0</td>\n",
       "      <td>1</td>\n",
       "      <td>111</td>\n",
       "      <td>0</td>\n",
       "      <td>20</td>\n",
       "      <td>0</td>\n",
       "      <td>210000.00</td>\n",
       "      <td>1.9</td>\n",
       "      <td>137</td>\n",
       "      <td>1</td>\n",
       "      <td>0</td>\n",
       "      <td>7</td>\n",
       "      <td>1</td>\n",
       "    </tr>\n",
       "    <tr>\n",
       "      <th>4</th>\n",
       "      <td>65.0</td>\n",
       "      <td>1</td>\n",
       "      <td>160</td>\n",
       "      <td>1</td>\n",
       "      <td>20</td>\n",
       "      <td>0</td>\n",
       "      <td>327000.00</td>\n",
       "      <td>2.7</td>\n",
       "      <td>116</td>\n",
       "      <td>0</td>\n",
       "      <td>0</td>\n",
       "      <td>8</td>\n",
       "      <td>1</td>\n",
       "    </tr>\n",
       "  </tbody>\n",
       "</table>\n",
       "</div>"
      ],
      "text/plain": [
       "    age  anaemia  creatinine_phosphokinase  diabetes  ejection_fraction  \\\n",
       "0  75.0        0                       582         0                 20   \n",
       "1  55.0        0                      7861         0                 38   \n",
       "2  65.0        0                       146         0                 20   \n",
       "3  50.0        1                       111         0                 20   \n",
       "4  65.0        1                       160         1                 20   \n",
       "\n",
       "   high_blood_pressure  platelets  serum_creatinine  serum_sodium  sex  \\\n",
       "0                    1  265000.00               1.9           130    1   \n",
       "1                    0  263358.03               1.1           136    1   \n",
       "2                    0  162000.00               1.3           129    1   \n",
       "3                    0  210000.00               1.9           137    1   \n",
       "4                    0  327000.00               2.7           116    0   \n",
       "\n",
       "   smoking  time  DEATH_EVENT  \n",
       "0        0     4            1  \n",
       "1        0     6            1  \n",
       "2        1     7            1  \n",
       "3        0     7            1  \n",
       "4        0     8            1  "
      ]
     },
     "execution_count": 4,
     "metadata": {},
     "output_type": "execute_result"
    }
   ],
   "source": [
    "pd.set_option('display.max_columns', None)\n",
    "data.head()"
   ]
  },
  {
   "cell_type": "markdown",
   "id": "4f7fbfe8",
   "metadata": {},
   "source": [
    "Kemudian, menggunakan perintah data info, bisa dilihat nama-nama kolom, berapa jumlah missing value, dan tipe data dari masing-masing kolom:"
   ]
  },
  {
   "cell_type": "code",
   "execution_count": 5,
   "id": "b5de9766",
   "metadata": {},
   "outputs": [
    {
     "name": "stdout",
     "output_type": "stream",
     "text": [
      "<class 'pandas.core.frame.DataFrame'>\n",
      "RangeIndex: 299 entries, 0 to 298\n",
      "Data columns (total 13 columns):\n",
      " #   Column                    Non-Null Count  Dtype  \n",
      "---  ------                    --------------  -----  \n",
      " 0   age                       299 non-null    float64\n",
      " 1   anaemia                   299 non-null    int64  \n",
      " 2   creatinine_phosphokinase  299 non-null    int64  \n",
      " 3   diabetes                  299 non-null    int64  \n",
      " 4   ejection_fraction         299 non-null    int64  \n",
      " 5   high_blood_pressure       299 non-null    int64  \n",
      " 6   platelets                 299 non-null    float64\n",
      " 7   serum_creatinine          299 non-null    float64\n",
      " 8   serum_sodium              299 non-null    int64  \n",
      " 9   sex                       299 non-null    int64  \n",
      " 10  smoking                   299 non-null    int64  \n",
      " 11  time                      299 non-null    int64  \n",
      " 12  DEATH_EVENT               299 non-null    int64  \n",
      "dtypes: float64(3), int64(10)\n",
      "memory usage: 30.5 KB\n"
     ]
    }
   ],
   "source": [
    "data.info()"
   ]
  },
  {
   "cell_type": "markdown",
   "id": "1fadca53",
   "metadata": {},
   "source": [
    "Untuk mendapatkan gambaran awal yang lebih jelas mengenai missing value dari dataset ini, saya menggunakan persentase dari missing values:"
   ]
  },
  {
   "cell_type": "code",
   "execution_count": 6,
   "id": "f9b0c1d3",
   "metadata": {
    "scrolled": true
   },
   "outputs": [
    {
     "data": {
      "text/html": [
       "<div>\n",
       "<style scoped>\n",
       "    .dataframe tbody tr th:only-of-type {\n",
       "        vertical-align: middle;\n",
       "    }\n",
       "\n",
       "    .dataframe tbody tr th {\n",
       "        vertical-align: top;\n",
       "    }\n",
       "\n",
       "    .dataframe thead th {\n",
       "        text-align: right;\n",
       "    }\n",
       "</style>\n",
       "<table border=\"1\" class=\"dataframe\">\n",
       "  <thead>\n",
       "    <tr style=\"text-align: right;\">\n",
       "      <th></th>\n",
       "      <th>column_name</th>\n",
       "      <th>percent_missing</th>\n",
       "    </tr>\n",
       "  </thead>\n",
       "  <tbody>\n",
       "    <tr>\n",
       "      <th>age</th>\n",
       "      <td>age</td>\n",
       "      <td>0.0</td>\n",
       "    </tr>\n",
       "    <tr>\n",
       "      <th>anaemia</th>\n",
       "      <td>anaemia</td>\n",
       "      <td>0.0</td>\n",
       "    </tr>\n",
       "    <tr>\n",
       "      <th>creatinine_phosphokinase</th>\n",
       "      <td>creatinine_phosphokinase</td>\n",
       "      <td>0.0</td>\n",
       "    </tr>\n",
       "    <tr>\n",
       "      <th>diabetes</th>\n",
       "      <td>diabetes</td>\n",
       "      <td>0.0</td>\n",
       "    </tr>\n",
       "    <tr>\n",
       "      <th>ejection_fraction</th>\n",
       "      <td>ejection_fraction</td>\n",
       "      <td>0.0</td>\n",
       "    </tr>\n",
       "    <tr>\n",
       "      <th>high_blood_pressure</th>\n",
       "      <td>high_blood_pressure</td>\n",
       "      <td>0.0</td>\n",
       "    </tr>\n",
       "    <tr>\n",
       "      <th>platelets</th>\n",
       "      <td>platelets</td>\n",
       "      <td>0.0</td>\n",
       "    </tr>\n",
       "    <tr>\n",
       "      <th>serum_creatinine</th>\n",
       "      <td>serum_creatinine</td>\n",
       "      <td>0.0</td>\n",
       "    </tr>\n",
       "    <tr>\n",
       "      <th>serum_sodium</th>\n",
       "      <td>serum_sodium</td>\n",
       "      <td>0.0</td>\n",
       "    </tr>\n",
       "    <tr>\n",
       "      <th>sex</th>\n",
       "      <td>sex</td>\n",
       "      <td>0.0</td>\n",
       "    </tr>\n",
       "    <tr>\n",
       "      <th>smoking</th>\n",
       "      <td>smoking</td>\n",
       "      <td>0.0</td>\n",
       "    </tr>\n",
       "    <tr>\n",
       "      <th>time</th>\n",
       "      <td>time</td>\n",
       "      <td>0.0</td>\n",
       "    </tr>\n",
       "    <tr>\n",
       "      <th>DEATH_EVENT</th>\n",
       "      <td>DEATH_EVENT</td>\n",
       "      <td>0.0</td>\n",
       "    </tr>\n",
       "  </tbody>\n",
       "</table>\n",
       "</div>"
      ],
      "text/plain": [
       "                                       column_name  percent_missing\n",
       "age                                            age              0.0\n",
       "anaemia                                    anaemia              0.0\n",
       "creatinine_phosphokinase  creatinine_phosphokinase              0.0\n",
       "diabetes                                  diabetes              0.0\n",
       "ejection_fraction                ejection_fraction              0.0\n",
       "high_blood_pressure            high_blood_pressure              0.0\n",
       "platelets                                platelets              0.0\n",
       "serum_creatinine                  serum_creatinine              0.0\n",
       "serum_sodium                          serum_sodium              0.0\n",
       "sex                                            sex              0.0\n",
       "smoking                                    smoking              0.0\n",
       "time                                          time              0.0\n",
       "DEATH_EVENT                            DEATH_EVENT              0.0"
      ]
     },
     "execution_count": 6,
     "metadata": {},
     "output_type": "execute_result"
    }
   ],
   "source": [
    "percent_missing = (data.isnull().sum() * 100 / len(data)).round(2)\n",
    "missing_value_data = pd.DataFrame({'column_name': data.columns,\n",
    "                                 'percent_missing': percent_missing})\n",
    "missing_value_data.sort_values('percent_missing', ascending=False, inplace=True)\n",
    "missing_value_data"
   ]
  },
  {
   "cell_type": "markdown",
   "id": "58ce700b",
   "metadata": {},
   "source": [
    "Kemudian, saya juga melihat persebaran statistik data untuk gambaran awal:"
   ]
  },
  {
   "cell_type": "code",
   "execution_count": 7,
   "id": "ebef8722",
   "metadata": {
    "scrolled": true
   },
   "outputs": [
    {
     "data": {
      "text/html": [
       "<div>\n",
       "<style scoped>\n",
       "    .dataframe tbody tr th:only-of-type {\n",
       "        vertical-align: middle;\n",
       "    }\n",
       "\n",
       "    .dataframe tbody tr th {\n",
       "        vertical-align: top;\n",
       "    }\n",
       "\n",
       "    .dataframe thead th {\n",
       "        text-align: right;\n",
       "    }\n",
       "</style>\n",
       "<table border=\"1\" class=\"dataframe\">\n",
       "  <thead>\n",
       "    <tr style=\"text-align: right;\">\n",
       "      <th></th>\n",
       "      <th>count</th>\n",
       "      <th>mean</th>\n",
       "      <th>std</th>\n",
       "      <th>min</th>\n",
       "      <th>25%</th>\n",
       "      <th>50%</th>\n",
       "      <th>75%</th>\n",
       "      <th>max</th>\n",
       "    </tr>\n",
       "  </thead>\n",
       "  <tbody>\n",
       "    <tr>\n",
       "      <th>age</th>\n",
       "      <td>299.0</td>\n",
       "      <td>60.833893</td>\n",
       "      <td>11.894809</td>\n",
       "      <td>40.0</td>\n",
       "      <td>51.0</td>\n",
       "      <td>60.0</td>\n",
       "      <td>70.0</td>\n",
       "      <td>95.0</td>\n",
       "    </tr>\n",
       "    <tr>\n",
       "      <th>anaemia</th>\n",
       "      <td>299.0</td>\n",
       "      <td>0.431438</td>\n",
       "      <td>0.496107</td>\n",
       "      <td>0.0</td>\n",
       "      <td>0.0</td>\n",
       "      <td>0.0</td>\n",
       "      <td>1.0</td>\n",
       "      <td>1.0</td>\n",
       "    </tr>\n",
       "    <tr>\n",
       "      <th>creatinine_phosphokinase</th>\n",
       "      <td>299.0</td>\n",
       "      <td>581.839465</td>\n",
       "      <td>970.287881</td>\n",
       "      <td>23.0</td>\n",
       "      <td>116.5</td>\n",
       "      <td>250.0</td>\n",
       "      <td>582.0</td>\n",
       "      <td>7861.0</td>\n",
       "    </tr>\n",
       "    <tr>\n",
       "      <th>diabetes</th>\n",
       "      <td>299.0</td>\n",
       "      <td>0.418060</td>\n",
       "      <td>0.494067</td>\n",
       "      <td>0.0</td>\n",
       "      <td>0.0</td>\n",
       "      <td>0.0</td>\n",
       "      <td>1.0</td>\n",
       "      <td>1.0</td>\n",
       "    </tr>\n",
       "    <tr>\n",
       "      <th>ejection_fraction</th>\n",
       "      <td>299.0</td>\n",
       "      <td>38.083612</td>\n",
       "      <td>11.834841</td>\n",
       "      <td>14.0</td>\n",
       "      <td>30.0</td>\n",
       "      <td>38.0</td>\n",
       "      <td>45.0</td>\n",
       "      <td>80.0</td>\n",
       "    </tr>\n",
       "    <tr>\n",
       "      <th>high_blood_pressure</th>\n",
       "      <td>299.0</td>\n",
       "      <td>0.351171</td>\n",
       "      <td>0.478136</td>\n",
       "      <td>0.0</td>\n",
       "      <td>0.0</td>\n",
       "      <td>0.0</td>\n",
       "      <td>1.0</td>\n",
       "      <td>1.0</td>\n",
       "    </tr>\n",
       "    <tr>\n",
       "      <th>platelets</th>\n",
       "      <td>299.0</td>\n",
       "      <td>263358.029264</td>\n",
       "      <td>97804.236869</td>\n",
       "      <td>25100.0</td>\n",
       "      <td>212500.0</td>\n",
       "      <td>262000.0</td>\n",
       "      <td>303500.0</td>\n",
       "      <td>850000.0</td>\n",
       "    </tr>\n",
       "    <tr>\n",
       "      <th>serum_creatinine</th>\n",
       "      <td>299.0</td>\n",
       "      <td>1.393880</td>\n",
       "      <td>1.034510</td>\n",
       "      <td>0.5</td>\n",
       "      <td>0.9</td>\n",
       "      <td>1.1</td>\n",
       "      <td>1.4</td>\n",
       "      <td>9.4</td>\n",
       "    </tr>\n",
       "    <tr>\n",
       "      <th>serum_sodium</th>\n",
       "      <td>299.0</td>\n",
       "      <td>136.625418</td>\n",
       "      <td>4.412477</td>\n",
       "      <td>113.0</td>\n",
       "      <td>134.0</td>\n",
       "      <td>137.0</td>\n",
       "      <td>140.0</td>\n",
       "      <td>148.0</td>\n",
       "    </tr>\n",
       "    <tr>\n",
       "      <th>sex</th>\n",
       "      <td>299.0</td>\n",
       "      <td>0.648829</td>\n",
       "      <td>0.478136</td>\n",
       "      <td>0.0</td>\n",
       "      <td>0.0</td>\n",
       "      <td>1.0</td>\n",
       "      <td>1.0</td>\n",
       "      <td>1.0</td>\n",
       "    </tr>\n",
       "    <tr>\n",
       "      <th>smoking</th>\n",
       "      <td>299.0</td>\n",
       "      <td>0.321070</td>\n",
       "      <td>0.467670</td>\n",
       "      <td>0.0</td>\n",
       "      <td>0.0</td>\n",
       "      <td>0.0</td>\n",
       "      <td>1.0</td>\n",
       "      <td>1.0</td>\n",
       "    </tr>\n",
       "    <tr>\n",
       "      <th>time</th>\n",
       "      <td>299.0</td>\n",
       "      <td>130.260870</td>\n",
       "      <td>77.614208</td>\n",
       "      <td>4.0</td>\n",
       "      <td>73.0</td>\n",
       "      <td>115.0</td>\n",
       "      <td>203.0</td>\n",
       "      <td>285.0</td>\n",
       "    </tr>\n",
       "    <tr>\n",
       "      <th>DEATH_EVENT</th>\n",
       "      <td>299.0</td>\n",
       "      <td>0.321070</td>\n",
       "      <td>0.467670</td>\n",
       "      <td>0.0</td>\n",
       "      <td>0.0</td>\n",
       "      <td>0.0</td>\n",
       "      <td>1.0</td>\n",
       "      <td>1.0</td>\n",
       "    </tr>\n",
       "  </tbody>\n",
       "</table>\n",
       "</div>"
      ],
      "text/plain": [
       "                          count           mean           std      min  \\\n",
       "age                       299.0      60.833893     11.894809     40.0   \n",
       "anaemia                   299.0       0.431438      0.496107      0.0   \n",
       "creatinine_phosphokinase  299.0     581.839465    970.287881     23.0   \n",
       "diabetes                  299.0       0.418060      0.494067      0.0   \n",
       "ejection_fraction         299.0      38.083612     11.834841     14.0   \n",
       "high_blood_pressure       299.0       0.351171      0.478136      0.0   \n",
       "platelets                 299.0  263358.029264  97804.236869  25100.0   \n",
       "serum_creatinine          299.0       1.393880      1.034510      0.5   \n",
       "serum_sodium              299.0     136.625418      4.412477    113.0   \n",
       "sex                       299.0       0.648829      0.478136      0.0   \n",
       "smoking                   299.0       0.321070      0.467670      0.0   \n",
       "time                      299.0     130.260870     77.614208      4.0   \n",
       "DEATH_EVENT               299.0       0.321070      0.467670      0.0   \n",
       "\n",
       "                               25%       50%       75%       max  \n",
       "age                           51.0      60.0      70.0      95.0  \n",
       "anaemia                        0.0       0.0       1.0       1.0  \n",
       "creatinine_phosphokinase     116.5     250.0     582.0    7861.0  \n",
       "diabetes                       0.0       0.0       1.0       1.0  \n",
       "ejection_fraction             30.0      38.0      45.0      80.0  \n",
       "high_blood_pressure            0.0       0.0       1.0       1.0  \n",
       "platelets                 212500.0  262000.0  303500.0  850000.0  \n",
       "serum_creatinine               0.9       1.1       1.4       9.4  \n",
       "serum_sodium                 134.0     137.0     140.0     148.0  \n",
       "sex                            0.0       1.0       1.0       1.0  \n",
       "smoking                        0.0       0.0       1.0       1.0  \n",
       "time                          73.0     115.0     203.0     285.0  \n",
       "DEATH_EVENT                    0.0       0.0       1.0       1.0  "
      ]
     },
     "execution_count": 7,
     "metadata": {},
     "output_type": "execute_result"
    }
   ],
   "source": [
    "data.describe().T #ditranspose hanya karena personal preference"
   ]
  },
  {
   "cell_type": "markdown",
   "id": "69f91631",
   "metadata": {},
   "source": [
    "## Exploratory Data Analysis"
   ]
  },
  {
   "cell_type": "markdown",
   "id": "46e9b403",
   "metadata": {},
   "source": [
    "Berikut ini adalah beberapa plotting dari data yang digunakan untuk keperluan _Exploratory Data Analysis_"
   ]
  },
  {
   "cell_type": "markdown",
   "id": "04a0742a",
   "metadata": {},
   "source": [
    "### Living vs Died"
   ]
  },
  {
   "cell_type": "markdown",
   "id": "ed3cb4f6",
   "metadata": {},
   "source": [
    "Yang pertama kali di plotting disini adalah mengenai perbandingan dari pasien yang hidup dan yang meninggal."
   ]
  },
  {
   "cell_type": "code",
   "execution_count": 8,
   "id": "f9ec612c",
   "metadata": {
    "scrolled": true
   },
   "outputs": [
    {
     "name": "stdout",
     "output_type": "stream",
     "text": [
      "Total number of Living case:- 203\n",
      "Total number of Death case:- 96\n"
     ]
    },
    {
     "data": {
      "image/png": "[encoded data removed]",
      "text/plain": [
       "<Figure size 432x288 with 1 Axes>"
      ]
     },
     "metadata": {},
     "output_type": "display_data"
    }
   ],
   "source": [
    "len_live = len(data['DEATH_EVENT'][data['DEATH_EVENT'] == 0])\n",
    "len_death = len(data['DEATH_EVENT'][data['DEATH_EVENT'] == 1])\n",
    "\n",
    "arr = np.array([len_live, len_death])\n",
    "labels = ['LIVING','DIED']\n",
    "\n",
    "print(f'Total number of Living case:- {len_live}')\n",
    "print(f'Total number of Death case:- {len_death}')\n",
    "\n",
    "plt.pie(arr, labels = labels, explode=[0.2,0.0], shadow = True)\n",
    "plt.show()"
   ]
  },
  {
   "cell_type": "markdown",
   "id": "bf577653",
   "metadata": {},
   "source": [
    "Dari persebaran pada pie chart itu bisa dilihat bahwa pasien yang meninggal adalah 96 orang sedangkan yang bertahan hidup adalah 203 orang. Disini dapat disimpulkan bahwa pasien yang meninggal adalah 32% dari total pasien."
   ]
  },
  {
   "cell_type": "markdown",
   "id": "9bf2a763",
   "metadata": {},
   "source": [
    "### Persebaran Umur Pasien"
   ]
  },
  {
   "cell_type": "markdown",
   "id": "77bd04a2",
   "metadata": {},
   "source": [
    "Kemudian saya juga memplot persebaran umur pasien."
   ]
  },
  {
   "cell_type": "code",
   "execution_count": 9,
   "id": "2c4e65c4",
   "metadata": {},
   "outputs": [
    {
     "data": {
      "text/plain": [
       "<AxesSubplot:xlabel='age', ylabel='Density'>"
      ]
     },
     "execution_count": 9,
     "metadata": {},
     "output_type": "execute_result"
    },
    {
     "data": {
      "image/png": "[encoded data removed]",
      "text/plain": [
       "<Figure size 432x288 with 1 Axes>"
      ]
     },
     "metadata": {
      "needs_background": "light"
     },
     "output_type": "display_data"
    }
   ],
   "source": [
    "sns.distplot(data['age'])"
   ]
  },
  {
   "cell_type": "markdown",
   "id": "a2f60cce",
   "metadata": {},
   "source": [
    "Di dapatkan bahwa distribusi pasien paling banyak berada diatas umur 50"
   ]
  },
  {
   "cell_type": "markdown",
   "id": "9070e0c6",
   "metadata": {},
   "source": [
    "### Umur >50, Living vs Died"
   ]
  },
  {
   "cell_type": "markdown",
   "id": "7b0c9763",
   "metadata": {},
   "source": [
    "Karena dari plot sebelumnya didapatkan distribusi pasien puncaknya berada diatas umur 50, maka disini saya memplot jumlah pasien yang hidup dan yang meninggal dari umur 50 ke atas saja."
   ]
  },
  {
   "cell_type": "code",
   "execution_count": 10,
   "id": "9032dfda",
   "metadata": {},
   "outputs": [
    {
     "name": "stdout",
     "output_type": "stream",
     "text": [
      "Total number of Died:- 85\n",
      "Total number of Not Died:- 167\n"
     ]
    },
    {
     "data": {
      "image/png": "[encoded data removed]",
      "text/plain": [
       "<Figure size 432x288 with 1 Axes>"
      ]
     },
     "metadata": {},
     "output_type": "display_data"
    }
   ],
   "source": [
    "age_above_50_not_died = data['DEATH_EVENT'][data.age >=50][data.DEATH_EVENT == 0]\n",
    "age_above_50_died = data['DEATH_EVENT'][data.age >= 50][data.DEATH_EVENT == 1]\n",
    "\n",
    "len_died = len(age_above_50_died)\n",
    "len_not_died = len(age_above_50_not_died)\n",
    "\n",
    "arr1 = np.array([len_died, len_not_died])\n",
    "labels =['DIED','NOT DIED']\n",
    "\n",
    "print(f'Total number of Died:- {len_died}')\n",
    "print(f'Total number of Not Died:- {len_not_died}')\n",
    "\n",
    "plt.pie(arr1, labels=labels, explode = [0.2, 0.0], shadow= True)\n",
    "plt.show()"
   ]
  },
  {
   "cell_type": "markdown",
   "id": "4e91b613",
   "metadata": {},
   "source": [
    "Dari pie chart di dapatkan bahwa pasien tetap lebih banyak yang bertahan hidup."
   ]
  },
  {
   "cell_type": "markdown",
   "id": "c65e59ce",
   "metadata": {},
   "source": [
    "### Diabetic, Living vs Died"
   ]
  },
  {
   "cell_type": "markdown",
   "id": "71939eaf",
   "metadata": {},
   "source": [
    "Lalu juga diplot kecenderungan pasien yang memiliki penyakit komorbid berupa diabetes, apakah banyak yang bertahan hidup atau banyak yang tidak bertahan hidup."
   ]
  },
  {
   "cell_type": "code",
   "execution_count": 11,
   "id": "c9897e69",
   "metadata": {},
   "outputs": [
    {
     "name": "stdout",
     "output_type": "stream",
     "text": [
      "Total number of Died with diabetes:- 40\n",
      "Total number of Not died with diabetes: 118\n"
     ]
    },
    {
     "data": {
      "image/png": "[encoded data removed]",
      "text/plain": [
       "<Figure size 432x288 with 1 Axes>"
      ]
     },
     "metadata": {},
     "output_type": "display_data"
    }
   ],
   "source": [
    "patient_nhave_diabetes_0 = data['DEATH_EVENT'][data.diabetes == 0][data.DEATH_EVENT ==0]\n",
    "patient_have_diabetes_1 = data['DEATH_EVENT'][data.diabetes == 1][data.DEATH_EVENT == 1]\n",
    "\n",
    "len_d_died = len(patient_have_diabetes_1)\n",
    "len_d_alive = len(patient_nhave_diabetes_0)\n",
    "\n",
    "arr2 = np.array([len_d_died, len_d_alive])\n",
    "labels = ['Died with diabetes', 'Not died with diabetes']\n",
    "\n",
    "print(f'Total number of Died with diabetes:- {len_d_died}')\n",
    "print(f'Total number of Not died with diabetes: {len_d_alive}')\n",
    "\n",
    "plt.pie(arr2, labels=labels, explode = [0.2,0.0], shadow = True)\n",
    "plt.show()"
   ]
  },
  {
   "cell_type": "markdown",
   "id": "567597f5",
   "metadata": {},
   "source": [
    "Dari pie chart juga didapatkan bahwa pasien yang komorbid lebih banyak yang bertahan hidup"
   ]
  },
  {
   "cell_type": "markdown",
   "id": "7bacc746",
   "metadata": {},
   "source": [
    "## Data Preprocessing"
   ]
  },
  {
   "cell_type": "markdown",
   "id": "e45fb349",
   "metadata": {},
   "source": [
    "### Data Inference"
   ]
  },
  {
   "cell_type": "markdown",
   "id": "d3a542f6",
   "metadata": {},
   "source": [
    "Berikutnya saya akan memisahkan 10 data dari dataset awal. 10 data ini akan digunakan sebagai data inference.\n",
    "\n",
    "Saya juga menghapus 10 data inference tadi dari data yang akan digunakan untuk train test dan mereset index data inference dan data train test. Reset index ini digunakan agar tidak terdapat permasalahan pada penomoran index nantinya."
   ]
  },
  {
   "cell_type": "code",
   "execution_count": 12,
   "id": "0a63efa9",
   "metadata": {},
   "outputs": [],
   "source": [
    "data_inf = data.sample(10, random_state = 22)\n",
    "\n",
    "#removing data_inf\n",
    "data_train_test = data.drop(data_inf.index)\n",
    "\n",
    "#reset index\n",
    "data_train_test.reset_index(drop=True, inplace=True)\n",
    "data_inf.reset_index(drop=True, inplace=True)"
   ]
  },
  {
   "cell_type": "markdown",
   "id": "ae5fee5a",
   "metadata": {},
   "source": [
    "### Split Dataset"
   ]
  },
  {
   "cell_type": "markdown",
   "id": "6b525d37",
   "metadata": {},
   "source": [
    "Langkah berikutnya pada data preprocessing ini adalah untuk melakukan splitting pada dataset. Disini X merupakan features, atau kolom-kolom yang akan digunakan sebagai perhitungan dalam melakukan prediksi, dan Y merupakan target, atau hal yang akan di prediksi.\n",
    "\n",
    "Karena yang akan diprediksi adalah Bertahan hidup atau Tidak, maka disini pada data yang diassign ke variabel X, saya mendelete kolom DEATH_EVENT (karena itu yang akan diprediksi) dan untuk y, isinya adalah kolom DEATH_EVENT."
   ]
  },
  {
   "cell_type": "code",
   "execution_count": 13,
   "id": "4ef73106",
   "metadata": {},
   "outputs": [
    {
     "data": {
      "text/html": [
       "<div>\n",
       "<style scoped>\n",
       "    .dataframe tbody tr th:only-of-type {\n",
       "        vertical-align: middle;\n",
       "    }\n",
       "\n",
       "    .dataframe tbody tr th {\n",
       "        vertical-align: top;\n",
       "    }\n",
       "\n",
       "    .dataframe thead th {\n",
       "        text-align: right;\n",
       "    }\n",
       "</style>\n",
       "<table border=\"1\" class=\"dataframe\">\n",
       "  <thead>\n",
       "    <tr style=\"text-align: right;\">\n",
       "      <th></th>\n",
       "      <th>age</th>\n",
       "      <th>anaemia</th>\n",
       "      <th>creatinine_phosphokinase</th>\n",
       "      <th>diabetes</th>\n",
       "      <th>ejection_fraction</th>\n",
       "      <th>high_blood_pressure</th>\n",
       "      <th>platelets</th>\n",
       "      <th>serum_creatinine</th>\n",
       "      <th>serum_sodium</th>\n",
       "      <th>sex</th>\n",
       "      <th>smoking</th>\n",
       "      <th>time</th>\n",
       "    </tr>\n",
       "  </thead>\n",
       "  <tbody>\n",
       "    <tr>\n",
       "      <th>0</th>\n",
       "      <td>75.0</td>\n",
       "      <td>0</td>\n",
       "      <td>582</td>\n",
       "      <td>0</td>\n",
       "      <td>20</td>\n",
       "      <td>1</td>\n",
       "      <td>265000.00</td>\n",
       "      <td>1.9</td>\n",
       "      <td>130</td>\n",
       "      <td>1</td>\n",
       "      <td>0</td>\n",
       "      <td>4</td>\n",
       "    </tr>\n",
       "    <tr>\n",
       "      <th>1</th>\n",
       "      <td>55.0</td>\n",
       "      <td>0</td>\n",
       "      <td>7861</td>\n",
       "      <td>0</td>\n",
       "      <td>38</td>\n",
       "      <td>0</td>\n",
       "      <td>263358.03</td>\n",
       "      <td>1.1</td>\n",
       "      <td>136</td>\n",
       "      <td>1</td>\n",
       "      <td>0</td>\n",
       "      <td>6</td>\n",
       "    </tr>\n",
       "    <tr>\n",
       "      <th>2</th>\n",
       "      <td>65.0</td>\n",
       "      <td>0</td>\n",
       "      <td>146</td>\n",
       "      <td>0</td>\n",
       "      <td>20</td>\n",
       "      <td>0</td>\n",
       "      <td>162000.00</td>\n",
       "      <td>1.3</td>\n",
       "      <td>129</td>\n",
       "      <td>1</td>\n",
       "      <td>1</td>\n",
       "      <td>7</td>\n",
       "    </tr>\n",
       "    <tr>\n",
       "      <th>3</th>\n",
       "      <td>50.0</td>\n",
       "      <td>1</td>\n",
       "      <td>111</td>\n",
       "      <td>0</td>\n",
       "      <td>20</td>\n",
       "      <td>0</td>\n",
       "      <td>210000.00</td>\n",
       "      <td>1.9</td>\n",
       "      <td>137</td>\n",
       "      <td>1</td>\n",
       "      <td>0</td>\n",
       "      <td>7</td>\n",
       "    </tr>\n",
       "    <tr>\n",
       "      <th>4</th>\n",
       "      <td>65.0</td>\n",
       "      <td>1</td>\n",
       "      <td>160</td>\n",
       "      <td>1</td>\n",
       "      <td>20</td>\n",
       "      <td>0</td>\n",
       "      <td>327000.00</td>\n",
       "      <td>2.7</td>\n",
       "      <td>116</td>\n",
       "      <td>0</td>\n",
       "      <td>0</td>\n",
       "      <td>8</td>\n",
       "    </tr>\n",
       "    <tr>\n",
       "      <th>...</th>\n",
       "      <td>...</td>\n",
       "      <td>...</td>\n",
       "      <td>...</td>\n",
       "      <td>...</td>\n",
       "      <td>...</td>\n",
       "      <td>...</td>\n",
       "      <td>...</td>\n",
       "      <td>...</td>\n",
       "      <td>...</td>\n",
       "      <td>...</td>\n",
       "      <td>...</td>\n",
       "      <td>...</td>\n",
       "    </tr>\n",
       "    <tr>\n",
       "      <th>284</th>\n",
       "      <td>62.0</td>\n",
       "      <td>0</td>\n",
       "      <td>61</td>\n",
       "      <td>1</td>\n",
       "      <td>38</td>\n",
       "      <td>1</td>\n",
       "      <td>155000.00</td>\n",
       "      <td>1.1</td>\n",
       "      <td>143</td>\n",
       "      <td>1</td>\n",
       "      <td>1</td>\n",
       "      <td>270</td>\n",
       "    </tr>\n",
       "    <tr>\n",
       "      <th>285</th>\n",
       "      <td>55.0</td>\n",
       "      <td>0</td>\n",
       "      <td>1820</td>\n",
       "      <td>0</td>\n",
       "      <td>38</td>\n",
       "      <td>0</td>\n",
       "      <td>270000.00</td>\n",
       "      <td>1.2</td>\n",
       "      <td>139</td>\n",
       "      <td>0</td>\n",
       "      <td>0</td>\n",
       "      <td>271</td>\n",
       "    </tr>\n",
       "    <tr>\n",
       "      <th>286</th>\n",
       "      <td>45.0</td>\n",
       "      <td>0</td>\n",
       "      <td>2060</td>\n",
       "      <td>1</td>\n",
       "      <td>60</td>\n",
       "      <td>0</td>\n",
       "      <td>742000.00</td>\n",
       "      <td>0.8</td>\n",
       "      <td>138</td>\n",
       "      <td>0</td>\n",
       "      <td>0</td>\n",
       "      <td>278</td>\n",
       "    </tr>\n",
       "    <tr>\n",
       "      <th>287</th>\n",
       "      <td>45.0</td>\n",
       "      <td>0</td>\n",
       "      <td>2413</td>\n",
       "      <td>0</td>\n",
       "      <td>38</td>\n",
       "      <td>0</td>\n",
       "      <td>140000.00</td>\n",
       "      <td>1.4</td>\n",
       "      <td>140</td>\n",
       "      <td>1</td>\n",
       "      <td>1</td>\n",
       "      <td>280</td>\n",
       "    </tr>\n",
       "    <tr>\n",
       "      <th>288</th>\n",
       "      <td>50.0</td>\n",
       "      <td>0</td>\n",
       "      <td>196</td>\n",
       "      <td>0</td>\n",
       "      <td>45</td>\n",
       "      <td>0</td>\n",
       "      <td>395000.00</td>\n",
       "      <td>1.6</td>\n",
       "      <td>136</td>\n",
       "      <td>1</td>\n",
       "      <td>1</td>\n",
       "      <td>285</td>\n",
       "    </tr>\n",
       "  </tbody>\n",
       "</table>\n",
       "<p>289 rows × 12 columns</p>\n",
       "</div>"
      ],
      "text/plain": [
       "      age  anaemia  creatinine_phosphokinase  diabetes  ejection_fraction  \\\n",
       "0    75.0        0                       582         0                 20   \n",
       "1    55.0        0                      7861         0                 38   \n",
       "2    65.0        0                       146         0                 20   \n",
       "3    50.0        1                       111         0                 20   \n",
       "4    65.0        1                       160         1                 20   \n",
       "..    ...      ...                       ...       ...                ...   \n",
       "284  62.0        0                        61         1                 38   \n",
       "285  55.0        0                      1820         0                 38   \n",
       "286  45.0        0                      2060         1                 60   \n",
       "287  45.0        0                      2413         0                 38   \n",
       "288  50.0        0                       196         0                 45   \n",
       "\n",
       "     high_blood_pressure  platelets  serum_creatinine  serum_sodium  sex  \\\n",
       "0                      1  265000.00               1.9           130    1   \n",
       "1                      0  263358.03               1.1           136    1   \n",
       "2                      0  162000.00               1.3           129    1   \n",
       "3                      0  210000.00               1.9           137    1   \n",
       "4                      0  327000.00               2.7           116    0   \n",
       "..                   ...        ...               ...           ...  ...   \n",
       "284                    1  155000.00               1.1           143    1   \n",
       "285                    0  270000.00               1.2           139    0   \n",
       "286                    0  742000.00               0.8           138    0   \n",
       "287                    0  140000.00               1.4           140    1   \n",
       "288                    0  395000.00               1.6           136    1   \n",
       "\n",
       "     smoking  time  \n",
       "0          0     4  \n",
       "1          0     6  \n",
       "2          1     7  \n",
       "3          0     7  \n",
       "4          0     8  \n",
       "..       ...   ...  \n",
       "284        1   270  \n",
       "285        0   271  \n",
       "286        0   278  \n",
       "287        1   280  \n",
       "288        1   285  \n",
       "\n",
       "[289 rows x 12 columns]"
      ]
     },
     "execution_count": 13,
     "metadata": {},
     "output_type": "execute_result"
    }
   ],
   "source": [
    "# define X and Y\n",
    "X = data_train_test.drop(['DEATH_EVENT'], axis=1)\n",
    "y = data_train_test['DEATH_EVENT']\n",
    "\n",
    "X"
   ]
  },
  {
   "cell_type": "markdown",
   "id": "463befeb",
   "metadata": {},
   "source": [
    "Setelah dilakukan pendefinisian, dengan menggunakan fitur train test split, saya melakukan splitting pada dataset. Ada 4, yaitu X_train dan y_train sebagai data yang akan digunakan untuk latihan bagi model Machine Learning dan X_test serta y_test sebagai data yang digunakan untuk pengujian model Machine Learning."
   ]
  },
  {
   "cell_type": "code",
   "execution_count": 14,
   "id": "119f0926",
   "metadata": {},
   "outputs": [
    {
     "name": "stdout",
     "output_type": "stream",
     "text": [
      "(173, 12)\n",
      "(116, 12)\n"
     ]
    }
   ],
   "source": [
    "from sklearn.model_selection import train_test_split\n",
    "\n",
    "X_train, X_test, y_train, y_test = train_test_split(X, y, test_size = 0.40, random_state = 22, stratify=y)\n",
    "\n",
    "print(X_train.shape)\n",
    "print(X_test.shape)"
   ]
  },
  {
   "cell_type": "markdown",
   "id": "e5683176",
   "metadata": {},
   "source": [
    "### Handling Outliers"
   ]
  },
  {
   "cell_type": "markdown",
   "id": "1172b7a0",
   "metadata": {},
   "source": [
    "Berikutnya, dalam data cleaning yang dilakukan adalah menghandle outliers. Untuk handling outliers ini khusus hanya untuk X train saja.\n",
    "\n",
    "Sebagai awalan, saya memprint info X train (yang sudah dihandle missing valuesnya) sebagai berikut:"
   ]
  },
  {
   "cell_type": "code",
   "execution_count": 15,
   "id": "1308888c",
   "metadata": {
    "scrolled": true
   },
   "outputs": [
    {
     "data": {
      "text/plain": [
       "Index(['age', 'anaemia', 'creatinine_phosphokinase', 'diabetes',\n",
       "       'ejection_fraction', 'high_blood_pressure', 'platelets',\n",
       "       'serum_creatinine', 'serum_sodium', 'sex', 'smoking', 'time'],\n",
       "      dtype='object')"
      ]
     },
     "execution_count": 15,
     "metadata": {},
     "output_type": "execute_result"
    }
   ],
   "source": [
    "X_train.columns"
   ]
  },
  {
   "cell_type": "markdown",
   "id": "81589635",
   "metadata": {},
   "source": [
    "Kemudian, untuk deteksi outliers, saya menggunakan boxplot. Untuk itu, saya membuat fungsi diagnostic yang bisa digunakan untuk memprint boxplot:"
   ]
  },
  {
   "cell_type": "code",
   "execution_count": 16,
   "id": "c5c11122",
   "metadata": {},
   "outputs": [],
   "source": [
    "def diagnostic_plots(df, variable):\n",
    "    # Define figure size\n",
    "    plt.figure(figsize=(16, 4))\n",
    "\n",
    "    # Histogram\n",
    "    plt.subplot(1, 2, 1)\n",
    "    sns.histplot(df[variable], bins=30)\n",
    "    plt.title('Histogram')\n",
    "\n",
    "    # Boxplot\n",
    "    plt.subplot(1, 2, 2)\n",
    "    sns.boxplot(y=df[variable])\n",
    "    plt.title('Boxplot')\n",
    "\n",
    "    plt.show()"
   ]
  },
  {
   "cell_type": "markdown",
   "id": "70756a3a",
   "metadata": {},
   "source": [
    "Kemudian saya melakukan plotting untuk outliers :"
   ]
  },
  {
   "cell_type": "code",
   "execution_count": 17,
   "id": "ae813e26",
   "metadata": {
    "scrolled": false
   },
   "outputs": [
    {
     "data": {
      "image/png": "[encoded data removed]",
      "text/plain": [
       "<Figure size 1152x288 with 2 Axes>"
      ]
     },
     "metadata": {
      "needs_background": "light"
     },
     "output_type": "display_data"
    },
    {
     "data": {
      "image/png": "[encoded data removed]",
      "text/plain": [
       "<Figure size 1152x288 with 2 Axes>"
      ]
     },
     "metadata": {
      "needs_background": "light"
     },
     "output_type": "display_data"
    },
    {
     "data": {
      "image/png": "[encoded data removed]",
      "text/plain": [
       "<Figure size 1152x288 with 2 Axes>"
      ]
     },
     "metadata": {
      "needs_background": "light"
     },
     "output_type": "display_data"
    },
    {
     "data": {
      "image/png": "[encoded data removed]",
      "text/plain": [
       "<Figure size 1152x288 with 2 Axes>"
      ]
     },
     "metadata": {
      "needs_background": "light"
     },
     "output_type": "display_data"
    },
    {
     "data": {
      "image/png": "[encoded data removed]",
      "text/plain": [
       "<Figure size 1152x288 with 2 Axes>"
      ]
     },
     "metadata": {
      "needs_background": "light"
     },
     "output_type": "display_data"
    },
    {
     "data": {
      "image/png": "[encoded data removed]",
      "text/plain": [
       "<Figure size 1152x288 with 2 Axes>"
      ]
     },
     "metadata": {
      "needs_background": "light"
     },
     "output_type": "display_data"
    },
    {
     "data": {
      "image/png": "[encoded data removed]",
      "text/plain": [
       "<Figure size 1152x288 with 2 Axes>"
      ]
     },
     "metadata": {
      "needs_background": "light"
     },
     "output_type": "display_data"
    },
    {
     "data": {
      "image/png": "[encoded data removed]",
      "text/plain": [
       "<Figure size 1152x288 with 2 Axes>"
      ]
     },
     "metadata": {
      "needs_background": "light"
     },
     "output_type": "display_data"
    },
    {
     "data": {
      "image/png": "[encoded data removed]",
      "text/plain": [
       "<Figure size 1152x288 with 2 Axes>"
      ]
     },
     "metadata": {
      "needs_background": "light"
     },
     "output_type": "display_data"
    },
    {
     "data": {
      "image/png": "[encoded data removed]",
      "text/plain": [
       "<Figure size 1152x288 with 2 Axes>"
      ]
     },
     "metadata": {
      "needs_background": "light"
     },
     "output_type": "display_data"
    },
    {
     "data": {
      "image/png": "[encoded data removed]",
      "text/plain": [
       "<Figure size 1152x288 with 2 Axes>"
      ]
     },
     "metadata": {
      "needs_background": "light"
     },
     "output_type": "display_data"
    },
    {
     "data": {
      "image/png": "[encoded data removed]",
      "text/plain": [
       "<Figure size 1152x288 with 2 Axes>"
      ]
     },
     "metadata": {
      "needs_background": "light"
     },
     "output_type": "display_data"
    }
   ],
   "source": [
    "diagnostic_plots(X_train, 'age')\n",
    "diagnostic_plots(X_train, 'anaemia')\n",
    "diagnostic_plots(X_train, 'creatinine_phosphokinase')\n",
    "diagnostic_plots(X_train, 'diabetes')\n",
    "diagnostic_plots(X_train, 'ejection_fraction')\n",
    "diagnostic_plots(X_train, 'high_blood_pressure')\n",
    "diagnostic_plots(X_train, 'platelets')\n",
    "diagnostic_plots(X_train, 'serum_creatinine')\n",
    "diagnostic_plots(X_train, 'serum_sodium')\n",
    "diagnostic_plots(X_train, 'sex')\n",
    "diagnostic_plots(X_train, 'smoking')\n",
    "diagnostic_plots(X_train, 'time')"
   ]
  },
  {
   "cell_type": "markdown",
   "id": "69cc7d6e",
   "metadata": {},
   "source": [
    "Dari plotting boxplot terlihat bahwa, kolom yang memiliki outliers adalah kolom creatinine_phosphokinase, platelets, serum_creatinine, serum_sodium.\n",
    "\n",
    "Handling outliers ini, saya akan menggunakan library Winsorizer sebagai berikut"
   ]
  },
  {
   "cell_type": "code",
   "execution_count": 18,
   "id": "70eda28f",
   "metadata": {},
   "outputs": [],
   "source": [
    "from feature_engine.outliers import Winsorizer\n",
    "\n",
    "cap = X_train[[ 'creatinine_phosphokinase', 'platelets', 'serum_creatinine', 'serum_sodium']]"
   ]
  },
  {
   "cell_type": "markdown",
   "id": "ff3f5b89",
   "metadata": {},
   "source": [
    "Saya mendefinisikan rule capping pada winsorizer :"
   ]
  },
  {
   "cell_type": "code",
   "execution_count": 19,
   "id": "d2abeba4",
   "metadata": {},
   "outputs": [],
   "source": [
    "windsoriser = Winsorizer(capping_method='iqr', # choose iqr for IQR rule boundaries or gaussian for mean and std\n",
    "                          tail='both', # cap left, right or both tails \n",
    "                          fold=1.5,\n",
    "                          variables=['creatinine_phosphokinase', 'platelets', 'serum_creatinine', 'serum_sodium'])"
   ]
  },
  {
   "cell_type": "code",
   "execution_count": 20,
   "id": "f519bbab",
   "metadata": {},
   "outputs": [],
   "source": [
    "windsoriser.fit(cap)\n",
    "\n",
    "cap_t = windsoriser.transform(cap)"
   ]
  },
  {
   "cell_type": "markdown",
   "id": "7114ac32",
   "metadata": {},
   "source": [
    "Lalu memprint minimum capping dan maximum capping dari masing-masing variabel:"
   ]
  },
  {
   "cell_type": "code",
   "execution_count": 21,
   "id": "3ec41baf",
   "metadata": {},
   "outputs": [
    {
     "name": "stdout",
     "output_type": "stream",
     "text": [
      "Left Tail Caps  :  {'creatinine_phosphokinase': -600.5, 'platelets': 57000.0, 'serum_creatinine': 1.1102230246251565e-16, 'serum_sodium': 127.5}\n",
      "Right Tail Caps :  {'creatinine_phosphokinase': 1291.5, 'platelets': 449000.0, 'serum_creatinine': 2.4, 'serum_sodium': 147.5}\n"
     ]
    }
   ],
   "source": [
    "# Inspect the minimum caps for each variable\n",
    "print('Left Tail Caps  : ', windsoriser.left_tail_caps_)\n",
    "\n",
    "# Iinspect the maximum caps for each variable\n",
    "print('Right Tail Caps : ', windsoriser.right_tail_caps_)"
   ]
  },
  {
   "cell_type": "markdown",
   "id": "f8578647",
   "metadata": {},
   "source": [
    "Setelah untuk hasil before-after capping juga diprint :"
   ]
  },
  {
   "cell_type": "code",
   "execution_count": 22,
   "id": "c69ffc36",
   "metadata": {},
   "outputs": [
    {
     "name": "stdout",
     "output_type": "stream",
     "text": [
      "Data - Before Capping\n",
      "       creatinine_phosphokinase      platelets  serum_creatinine  serum_sodium\n",
      "count                173.000000     173.000000        173.000000    173.000000\n",
      "mean                 545.300578  260268.615318          1.312948    136.768786\n",
      "std                 1014.988488  105128.373154          0.657653      4.520465\n",
      "min                   30.000000   25100.000000          0.500000    113.000000\n",
      "25%                  109.000000  204000.000000          0.900000    135.000000\n",
      "50%                  244.000000  262000.000000          1.100000    137.000000\n",
      "75%                  582.000000  302000.000000          1.500000    140.000000\n",
      "max                 7861.000000  850000.000000          4.400000    145.000000\n",
      "\n",
      "Data - After Capping\n",
      "       creatinine_phosphokinase      platelets  serum_creatinine  serum_sodium\n",
      "count                173.000000     173.000000        173.000000    173.000000\n",
      "mean                 392.546243  254828.730925          1.254566    136.945087\n",
      "std                  372.991260   84135.127172          0.473931      3.879529\n",
      "min                   30.000000   57000.000000          0.500000    127.500000\n",
      "25%                  109.000000  204000.000000          0.900000    135.000000\n",
      "50%                  244.000000  262000.000000          1.100000    137.000000\n",
      "75%                  582.000000  302000.000000          1.500000    140.000000\n",
      "max                 1291.500000  449000.000000          2.400000    145.000000\n"
     ]
    }
   ],
   "source": [
    "print('Data - Before Capping')\n",
    "print(cap.describe())\n",
    "print('')\n",
    "print('Data - After Capping')\n",
    "print(cap_t.describe())"
   ]
  },
  {
   "cell_type": "markdown",
   "id": "aa556adf",
   "metadata": {},
   "source": [
    "Dan visualisasi boxplot before after:"
   ]
  },
  {
   "cell_type": "code",
   "execution_count": 23,
   "id": "3fe689f5",
   "metadata": {},
   "outputs": [
    {
     "name": "stdout",
     "output_type": "stream",
     "text": [
      "creatinine_phosphokinase - Before Capping\n"
     ]
    },
    {
     "data": {
      "image/png": "[encoded data removed]",
      "text/plain": [
       "<Figure size 1152x288 with 2 Axes>"
      ]
     },
     "metadata": {
      "needs_background": "light"
     },
     "output_type": "display_data"
    },
    {
     "name": "stdout",
     "output_type": "stream",
     "text": [
      "\n",
      "creatinine_phosphokinase - After Capping\n"
     ]
    },
    {
     "data": {
      "image/png": "[encoded data removed]",
      "text/plain": [
       "<Figure size 1152x288 with 2 Axes>"
      ]
     },
     "metadata": {
      "needs_background": "light"
     },
     "output_type": "display_data"
    },
    {
     "name": "stdout",
     "output_type": "stream",
     "text": [
      "platelets - Before Capping\n"
     ]
    },
    {
     "data": {
      "image/png": "[encoded data removed]",
      "text/plain": [
       "<Figure size 1152x288 with 2 Axes>"
      ]
     },
     "metadata": {
      "needs_background": "light"
     },
     "output_type": "display_data"
    },
    {
     "name": "stdout",
     "output_type": "stream",
     "text": [
      "\n",
      "platelets - After Capping\n"
     ]
    },
    {
     "data": {
      "image/png": "[encoded data removed]",
      "text/plain": [
       "<Figure size 1152x288 with 2 Axes>"
      ]
     },
     "metadata": {
      "needs_background": "light"
     },
     "output_type": "display_data"
    },
    {
     "name": "stdout",
     "output_type": "stream",
     "text": [
      "serum_creatinine - Before Capping\n"
     ]
    },
    {
     "data": {
      "image/png": "[encoded data removed]",
      "text/plain": [
       "<Figure size 1152x288 with 2 Axes>"
      ]
     },
     "metadata": {
      "needs_background": "light"
     },
     "output_type": "display_data"
    },
    {
     "name": "stdout",
     "output_type": "stream",
     "text": [
      "\n",
      "serum_creatinine - After Capping\n"
     ]
    },
    {
     "data": {
      "image/png": "[encoded data removed]",
      "text/plain": [
       "<Figure size 1152x288 with 2 Axes>"
      ]
     },
     "metadata": {
      "needs_background": "light"
     },
     "output_type": "display_data"
    },
    {
     "name": "stdout",
     "output_type": "stream",
     "text": [
      "serum_sodium - Before Capping\n"
     ]
    },
    {
     "data": {
      "image/png": "[encoded data removed]",
      "text/plain": [
       "<Figure size 1152x288 with 2 Axes>"
      ]
     },
     "metadata": {
      "needs_background": "light"
     },
     "output_type": "display_data"
    },
    {
     "name": "stdout",
     "output_type": "stream",
     "text": [
      "\n",
      "serum_sodium - After Capping\n"
     ]
    },
    {
     "data": {
      "image/png": "[encoded data removed]",
      "text/plain": [
       "<Figure size 1152x288 with 2 Axes>"
      ]
     },
     "metadata": {
      "needs_background": "light"
     },
     "output_type": "display_data"
    }
   ],
   "source": [
    "print('creatinine_phosphokinase - Before Capping')\n",
    "diagnostic_plots(cap, 'creatinine_phosphokinase')\n",
    "print('\\ncreatinine_phosphokinase - After Capping')\n",
    "diagnostic_plots(cap_t, 'creatinine_phosphokinase')\n",
    "\n",
    "print('platelets - Before Capping')\n",
    "diagnostic_plots(cap, 'platelets')\n",
    "print('\\nplatelets - After Capping')\n",
    "diagnostic_plots(cap_t, 'platelets')\n",
    "\n",
    "print('serum_creatinine - Before Capping')\n",
    "diagnostic_plots(cap, 'serum_creatinine')\n",
    "print('\\nserum_creatinine - After Capping')\n",
    "diagnostic_plots(cap_t, 'serum_creatinine')\n",
    "\n",
    "print('serum_sodium - Before Capping')\n",
    "diagnostic_plots(cap, 'serum_sodium')\n",
    "print('\\nserum_sodium - After Capping')\n",
    "diagnostic_plots(cap_t, 'serum_sodium')"
   ]
  },
  {
   "cell_type": "markdown",
   "id": "d59612eb",
   "metadata": {},
   "source": [
    "### Handling Missing Values"
   ]
  },
  {
   "cell_type": "markdown",
   "id": "0fc0cbc1",
   "metadata": {},
   "source": [
    "Berikutnya untuk handling missing values. Pada saat awal data loading tadi sudah sempat terlihat sekilas bahwa data ini tidak memiliki missing values sama sekali. "
   ]
  },
  {
   "cell_type": "markdown",
   "id": "c080b647",
   "metadata": {},
   "source": [
    "Namun, akan di print ulang untuk masing-masing X_train, X_test, y_train, dan y_test untuk memastikan:"
   ]
  },
  {
   "cell_type": "code",
   "execution_count": 24,
   "id": "782cbbb8",
   "metadata": {},
   "outputs": [
    {
     "data": {
      "text/html": [
       "<div>\n",
       "<style scoped>\n",
       "    .dataframe tbody tr th:only-of-type {\n",
       "        vertical-align: middle;\n",
       "    }\n",
       "\n",
       "    .dataframe tbody tr th {\n",
       "        vertical-align: top;\n",
       "    }\n",
       "\n",
       "    .dataframe thead th {\n",
       "        text-align: right;\n",
       "    }\n",
       "</style>\n",
       "<table border=\"1\" class=\"dataframe\">\n",
       "  <thead>\n",
       "    <tr style=\"text-align: right;\">\n",
       "      <th></th>\n",
       "      <th>column_name</th>\n",
       "      <th>percent_missing</th>\n",
       "    </tr>\n",
       "  </thead>\n",
       "  <tbody>\n",
       "    <tr>\n",
       "      <th>age</th>\n",
       "      <td>age</td>\n",
       "      <td>0.0</td>\n",
       "    </tr>\n",
       "    <tr>\n",
       "      <th>anaemia</th>\n",
       "      <td>anaemia</td>\n",
       "      <td>0.0</td>\n",
       "    </tr>\n",
       "    <tr>\n",
       "      <th>creatinine_phosphokinase</th>\n",
       "      <td>creatinine_phosphokinase</td>\n",
       "      <td>0.0</td>\n",
       "    </tr>\n",
       "    <tr>\n",
       "      <th>diabetes</th>\n",
       "      <td>diabetes</td>\n",
       "      <td>0.0</td>\n",
       "    </tr>\n",
       "    <tr>\n",
       "      <th>ejection_fraction</th>\n",
       "      <td>ejection_fraction</td>\n",
       "      <td>0.0</td>\n",
       "    </tr>\n",
       "    <tr>\n",
       "      <th>high_blood_pressure</th>\n",
       "      <td>high_blood_pressure</td>\n",
       "      <td>0.0</td>\n",
       "    </tr>\n",
       "    <tr>\n",
       "      <th>platelets</th>\n",
       "      <td>platelets</td>\n",
       "      <td>0.0</td>\n",
       "    </tr>\n",
       "    <tr>\n",
       "      <th>serum_creatinine</th>\n",
       "      <td>serum_creatinine</td>\n",
       "      <td>0.0</td>\n",
       "    </tr>\n",
       "    <tr>\n",
       "      <th>serum_sodium</th>\n",
       "      <td>serum_sodium</td>\n",
       "      <td>0.0</td>\n",
       "    </tr>\n",
       "    <tr>\n",
       "      <th>sex</th>\n",
       "      <td>sex</td>\n",
       "      <td>0.0</td>\n",
       "    </tr>\n",
       "    <tr>\n",
       "      <th>smoking</th>\n",
       "      <td>smoking</td>\n",
       "      <td>0.0</td>\n",
       "    </tr>\n",
       "    <tr>\n",
       "      <th>time</th>\n",
       "      <td>time</td>\n",
       "      <td>0.0</td>\n",
       "    </tr>\n",
       "  </tbody>\n",
       "</table>\n",
       "</div>"
      ],
      "text/plain": [
       "                                       column_name  percent_missing\n",
       "age                                            age              0.0\n",
       "anaemia                                    anaemia              0.0\n",
       "creatinine_phosphokinase  creatinine_phosphokinase              0.0\n",
       "diabetes                                  diabetes              0.0\n",
       "ejection_fraction                ejection_fraction              0.0\n",
       "high_blood_pressure            high_blood_pressure              0.0\n",
       "platelets                                platelets              0.0\n",
       "serum_creatinine                  serum_creatinine              0.0\n",
       "serum_sodium                          serum_sodium              0.0\n",
       "sex                                            sex              0.0\n",
       "smoking                                    smoking              0.0\n",
       "time                                          time              0.0"
      ]
     },
     "execution_count": 24,
     "metadata": {},
     "output_type": "execute_result"
    }
   ],
   "source": [
    "percent_missing = (X_train.isnull().sum() * 100 / len(X_train)).round(2)\n",
    "missing_value_data = pd.DataFrame({'column_name': X_train.columns,\n",
    "                                 'percent_missing': percent_missing})\n",
    "missing_value_data.sort_values('percent_missing', ascending=False, inplace=True)\n",
    "missing_value_data"
   ]
  },
  {
   "cell_type": "code",
   "execution_count": 25,
   "id": "49c59d83",
   "metadata": {},
   "outputs": [
    {
     "data": {
      "text/plain": [
       "age                         0\n",
       "anaemia                     0\n",
       "creatinine_phosphokinase    0\n",
       "diabetes                    0\n",
       "ejection_fraction           0\n",
       "high_blood_pressure         0\n",
       "platelets                   0\n",
       "serum_creatinine            0\n",
       "serum_sodium                0\n",
       "sex                         0\n",
       "smoking                     0\n",
       "time                        0\n",
       "dtype: int64"
      ]
     },
     "execution_count": 25,
     "metadata": {},
     "output_type": "execute_result"
    }
   ],
   "source": [
    "X_test.isna().sum()"
   ]
  },
  {
   "cell_type": "code",
   "execution_count": 26,
   "id": "5757de0c",
   "metadata": {},
   "outputs": [
    {
     "data": {
      "text/plain": [
       "0"
      ]
     },
     "execution_count": 26,
     "metadata": {},
     "output_type": "execute_result"
    }
   ],
   "source": [
    "y_test.isna().sum()"
   ]
  },
  {
   "cell_type": "code",
   "execution_count": 27,
   "id": "2aadd34f",
   "metadata": {},
   "outputs": [
    {
     "data": {
      "text/plain": [
       "0"
      ]
     },
     "execution_count": 27,
     "metadata": {},
     "output_type": "execute_result"
    }
   ],
   "source": [
    "y_train.isna().sum()"
   ]
  },
  {
   "cell_type": "markdown",
   "id": "1f8fdd67",
   "metadata": {},
   "source": [
    "Karena seluruh datanya bersih, maka akan langsung masuk ke rubrik berikutnya"
   ]
  },
  {
   "cell_type": "markdown",
   "id": "472f31dc",
   "metadata": {},
   "source": [
    "## Splitting Numerical and Categorical"
   ]
  },
  {
   "cell_type": "code",
   "execution_count": 28,
   "id": "3f86e874",
   "metadata": {},
   "outputs": [
    {
     "data": {
      "text/html": [
       "<div>\n",
       "<style scoped>\n",
       "    .dataframe tbody tr th:only-of-type {\n",
       "        vertical-align: middle;\n",
       "    }\n",
       "\n",
       "    .dataframe tbody tr th {\n",
       "        vertical-align: top;\n",
       "    }\n",
       "\n",
       "    .dataframe thead th {\n",
       "        text-align: right;\n",
       "    }\n",
       "</style>\n",
       "<table border=\"1\" class=\"dataframe\">\n",
       "  <thead>\n",
       "    <tr style=\"text-align: right;\">\n",
       "      <th></th>\n",
       "      <th>age</th>\n",
       "      <th>anaemia</th>\n",
       "      <th>creatinine_phosphokinase</th>\n",
       "      <th>diabetes</th>\n",
       "      <th>ejection_fraction</th>\n",
       "      <th>high_blood_pressure</th>\n",
       "      <th>platelets</th>\n",
       "      <th>serum_creatinine</th>\n",
       "      <th>serum_sodium</th>\n",
       "      <th>sex</th>\n",
       "      <th>smoking</th>\n",
       "      <th>time</th>\n",
       "    </tr>\n",
       "  </thead>\n",
       "  <tbody>\n",
       "    <tr>\n",
       "      <th>86</th>\n",
       "      <td>44.0</td>\n",
       "      <td>0</td>\n",
       "      <td>84</td>\n",
       "      <td>1</td>\n",
       "      <td>40</td>\n",
       "      <td>1</td>\n",
       "      <td>235000.0</td>\n",
       "      <td>0.7</td>\n",
       "      <td>139</td>\n",
       "      <td>1</td>\n",
       "      <td>0</td>\n",
       "      <td>79</td>\n",
       "    </tr>\n",
       "    <tr>\n",
       "      <th>240</th>\n",
       "      <td>53.0</td>\n",
       "      <td>0</td>\n",
       "      <td>207</td>\n",
       "      <td>1</td>\n",
       "      <td>40</td>\n",
       "      <td>0</td>\n",
       "      <td>223000.0</td>\n",
       "      <td>1.2</td>\n",
       "      <td>130</td>\n",
       "      <td>0</td>\n",
       "      <td>0</td>\n",
       "      <td>214</td>\n",
       "    </tr>\n",
       "    <tr>\n",
       "      <th>101</th>\n",
       "      <td>42.0</td>\n",
       "      <td>0</td>\n",
       "      <td>5209</td>\n",
       "      <td>0</td>\n",
       "      <td>30</td>\n",
       "      <td>0</td>\n",
       "      <td>226000.0</td>\n",
       "      <td>1.0</td>\n",
       "      <td>140</td>\n",
       "      <td>1</td>\n",
       "      <td>1</td>\n",
       "      <td>87</td>\n",
       "    </tr>\n",
       "    <tr>\n",
       "      <th>5</th>\n",
       "      <td>90.0</td>\n",
       "      <td>1</td>\n",
       "      <td>47</td>\n",
       "      <td>0</td>\n",
       "      <td>40</td>\n",
       "      <td>1</td>\n",
       "      <td>204000.0</td>\n",
       "      <td>2.1</td>\n",
       "      <td>132</td>\n",
       "      <td>1</td>\n",
       "      <td>1</td>\n",
       "      <td>8</td>\n",
       "    </tr>\n",
       "    <tr>\n",
       "      <th>283</th>\n",
       "      <td>63.0</td>\n",
       "      <td>1</td>\n",
       "      <td>103</td>\n",
       "      <td>1</td>\n",
       "      <td>35</td>\n",
       "      <td>0</td>\n",
       "      <td>179000.0</td>\n",
       "      <td>0.9</td>\n",
       "      <td>136</td>\n",
       "      <td>1</td>\n",
       "      <td>1</td>\n",
       "      <td>270</td>\n",
       "    </tr>\n",
       "  </tbody>\n",
       "</table>\n",
       "</div>"
      ],
      "text/plain": [
       "      age  anaemia  creatinine_phosphokinase  diabetes  ejection_fraction  \\\n",
       "86   44.0        0                        84         1                 40   \n",
       "240  53.0        0                       207         1                 40   \n",
       "101  42.0        0                      5209         0                 30   \n",
       "5    90.0        1                        47         0                 40   \n",
       "283  63.0        1                       103         1                 35   \n",
       "\n",
       "     high_blood_pressure  platelets  serum_creatinine  serum_sodium  sex  \\\n",
       "86                     1   235000.0               0.7           139    1   \n",
       "240                    0   223000.0               1.2           130    0   \n",
       "101                    0   226000.0               1.0           140    1   \n",
       "5                      1   204000.0               2.1           132    1   \n",
       "283                    0   179000.0               0.9           136    1   \n",
       "\n",
       "     smoking  time  \n",
       "86         0    79  \n",
       "240        0   214  \n",
       "101        1    87  \n",
       "5          1     8  \n",
       "283        1   270  "
      ]
     },
     "execution_count": 28,
     "metadata": {},
     "output_type": "execute_result"
    }
   ],
   "source": [
    "X_train.head()"
   ]
  },
  {
   "cell_type": "markdown",
   "id": "7e7c55c1",
   "metadata": {},
   "source": [
    "Dari print data X_train diatas, dapat dilihat bahwa seluruh features dari data ini sudah berupa numerik. "
   ]
  },
  {
   "cell_type": "markdown",
   "id": "8d144afe",
   "metadata": {},
   "source": [
    "Untuk memastikan akan dilakukan assignment ke masing-masing numerik columns dan categorical columns sebagai berikut:"
   ]
  },
  {
   "cell_type": "code",
   "execution_count": 29,
   "id": "2d4cc471",
   "metadata": {},
   "outputs": [],
   "source": [
    "num_columns = X_train.select_dtypes(include=np.number).columns.tolist()\n",
    "cat_columns = X_train.select_dtypes(include=['object']).columns.tolist()"
   ]
  },
  {
   "cell_type": "code",
   "execution_count": 30,
   "id": "a3530fef",
   "metadata": {},
   "outputs": [
    {
     "name": "stdout",
     "output_type": "stream",
     "text": [
      "Numeric Columns : ['age', 'anaemia', 'creatinine_phosphokinase', 'diabetes', 'ejection_fraction', 'high_blood_pressure', 'platelets', 'serum_creatinine', 'serum_sodium', 'sex', 'smoking', 'time']\n",
      "Categorical Columns :  []\n"
     ]
    }
   ],
   "source": [
    "print('Numeric Columns :', num_columns)\n",
    "print('Categorical Columns : ', cat_columns)"
   ]
  },
  {
   "cell_type": "markdown",
   "id": "6939cf19",
   "metadata": {},
   "source": [
    "Bisa dilihat semua datanya sudah masuk ke kolom numerik sehingga proses splitting tidak dilakukan."
   ]
  },
  {
   "cell_type": "markdown",
   "id": "c1b36270",
   "metadata": {},
   "source": [
    "## Feature Engineering"
   ]
  },
  {
   "cell_type": "markdown",
   "id": "00d5f4f1",
   "metadata": {},
   "source": [
    "Berikutnya, akan langsung dilakukan feature engineering dengan menggunakan fitur SelectKBest untuk menentukan mana feature yang paling berpengaruh:"
   ]
  },
  {
   "cell_type": "code",
   "execution_count": 31,
   "id": "6c0d2b41",
   "metadata": {},
   "outputs": [
    {
     "data": {
      "text/plain": [
       "['age',\n",
       " 'anaemia',\n",
       " 'creatinine_phosphokinase',\n",
       " 'ejection_fraction',\n",
       " 'high_blood_pressure',\n",
       " 'platelets',\n",
       " 'serum_creatinine',\n",
       " 'serum_sodium',\n",
       " 'sex',\n",
       " 'time']"
      ]
     },
     "execution_count": 31,
     "metadata": {},
     "output_type": "execute_result"
    }
   ],
   "source": [
    "from sklearn.feature_selection import SelectPercentile, f_classif, chi2, SelectKBest, SelectFpr\n",
    "\n",
    "# Select features according to the k(=15) highest scores.\n",
    "\n",
    "selector = SelectKBest(score_func=f_classif, k=10)\n",
    "selector.fit(X_train, y_train)\n",
    "cols = selector.get_support(indices=True)\n",
    "best_features = X_train.iloc[:,cols]\n",
    "list(best_features.columns)"
   ]
  },
  {
   "cell_type": "markdown",
   "id": "fd2c820f",
   "metadata": {},
   "source": [
    "Dari hasil selection tersebut, terlihat ada 10 feature yang paling memengaruhi. Sehingga saya akan menghapus kolom lainnya:"
   ]
  },
  {
   "cell_type": "code",
   "execution_count": 32,
   "id": "75bb3b49",
   "metadata": {},
   "outputs": [
    {
     "data": {
      "text/plain": [
       "Index(['age', 'anaemia', 'creatinine_phosphokinase', 'diabetes',\n",
       "       'ejection_fraction', 'high_blood_pressure', 'platelets',\n",
       "       'serum_creatinine', 'serum_sodium', 'sex', 'smoking', 'time'],\n",
       "      dtype='object')"
      ]
     },
     "execution_count": 32,
     "metadata": {},
     "output_type": "execute_result"
    }
   ],
   "source": [
    "X_train.columns"
   ]
  },
  {
   "cell_type": "code",
   "execution_count": 33,
   "id": "4b14cdbc",
   "metadata": {},
   "outputs": [],
   "source": [
    "X_train_cd = X_train.drop(columns=['creatinine_phosphokinase', 'diabetes'])\n",
    "X_test_cd = X_test.drop(columns=['creatinine_phosphokinase', 'diabetes'])"
   ]
  },
  {
   "cell_type": "code",
   "execution_count": 34,
   "id": "75995920",
   "metadata": {},
   "outputs": [
    {
     "data": {
      "text/html": [
       "<div>\n",
       "<style scoped>\n",
       "    .dataframe tbody tr th:only-of-type {\n",
       "        vertical-align: middle;\n",
       "    }\n",
       "\n",
       "    .dataframe tbody tr th {\n",
       "        vertical-align: top;\n",
       "    }\n",
       "\n",
       "    .dataframe thead th {\n",
       "        text-align: right;\n",
       "    }\n",
       "</style>\n",
       "<table border=\"1\" class=\"dataframe\">\n",
       "  <thead>\n",
       "    <tr style=\"text-align: right;\">\n",
       "      <th></th>\n",
       "      <th>age</th>\n",
       "      <th>anaemia</th>\n",
       "      <th>ejection_fraction</th>\n",
       "      <th>high_blood_pressure</th>\n",
       "      <th>platelets</th>\n",
       "      <th>serum_creatinine</th>\n",
       "      <th>serum_sodium</th>\n",
       "      <th>sex</th>\n",
       "      <th>smoking</th>\n",
       "      <th>time</th>\n",
       "    </tr>\n",
       "  </thead>\n",
       "  <tbody>\n",
       "    <tr>\n",
       "      <th>86</th>\n",
       "      <td>44.000</td>\n",
       "      <td>0</td>\n",
       "      <td>40</td>\n",
       "      <td>1</td>\n",
       "      <td>235000.0</td>\n",
       "      <td>0.7</td>\n",
       "      <td>139</td>\n",
       "      <td>1</td>\n",
       "      <td>0</td>\n",
       "      <td>79</td>\n",
       "    </tr>\n",
       "    <tr>\n",
       "      <th>240</th>\n",
       "      <td>53.000</td>\n",
       "      <td>0</td>\n",
       "      <td>40</td>\n",
       "      <td>0</td>\n",
       "      <td>223000.0</td>\n",
       "      <td>1.2</td>\n",
       "      <td>130</td>\n",
       "      <td>0</td>\n",
       "      <td>0</td>\n",
       "      <td>214</td>\n",
       "    </tr>\n",
       "    <tr>\n",
       "      <th>101</th>\n",
       "      <td>42.000</td>\n",
       "      <td>0</td>\n",
       "      <td>30</td>\n",
       "      <td>0</td>\n",
       "      <td>226000.0</td>\n",
       "      <td>1.0</td>\n",
       "      <td>140</td>\n",
       "      <td>1</td>\n",
       "      <td>1</td>\n",
       "      <td>87</td>\n",
       "    </tr>\n",
       "    <tr>\n",
       "      <th>5</th>\n",
       "      <td>90.000</td>\n",
       "      <td>1</td>\n",
       "      <td>40</td>\n",
       "      <td>1</td>\n",
       "      <td>204000.0</td>\n",
       "      <td>2.1</td>\n",
       "      <td>132</td>\n",
       "      <td>1</td>\n",
       "      <td>1</td>\n",
       "      <td>8</td>\n",
       "    </tr>\n",
       "    <tr>\n",
       "      <th>283</th>\n",
       "      <td>63.000</td>\n",
       "      <td>1</td>\n",
       "      <td>35</td>\n",
       "      <td>0</td>\n",
       "      <td>179000.0</td>\n",
       "      <td>0.9</td>\n",
       "      <td>136</td>\n",
       "      <td>1</td>\n",
       "      <td>1</td>\n",
       "      <td>270</td>\n",
       "    </tr>\n",
       "    <tr>\n",
       "      <th>...</th>\n",
       "      <td>...</td>\n",
       "      <td>...</td>\n",
       "      <td>...</td>\n",
       "      <td>...</td>\n",
       "      <td>...</td>\n",
       "      <td>...</td>\n",
       "      <td>...</td>\n",
       "      <td>...</td>\n",
       "      <td>...</td>\n",
       "      <td>...</td>\n",
       "    </tr>\n",
       "    <tr>\n",
       "      <th>179</th>\n",
       "      <td>60.667</td>\n",
       "      <td>1</td>\n",
       "      <td>30</td>\n",
       "      <td>0</td>\n",
       "      <td>389000.0</td>\n",
       "      <td>1.5</td>\n",
       "      <td>136</td>\n",
       "      <td>1</td>\n",
       "      <td>0</td>\n",
       "      <td>171</td>\n",
       "    </tr>\n",
       "    <tr>\n",
       "      <th>288</th>\n",
       "      <td>50.000</td>\n",
       "      <td>0</td>\n",
       "      <td>45</td>\n",
       "      <td>0</td>\n",
       "      <td>395000.0</td>\n",
       "      <td>1.6</td>\n",
       "      <td>136</td>\n",
       "      <td>1</td>\n",
       "      <td>1</td>\n",
       "      <td>285</td>\n",
       "    </tr>\n",
       "    <tr>\n",
       "      <th>133</th>\n",
       "      <td>68.000</td>\n",
       "      <td>1</td>\n",
       "      <td>25</td>\n",
       "      <td>0</td>\n",
       "      <td>305000.0</td>\n",
       "      <td>2.1</td>\n",
       "      <td>130</td>\n",
       "      <td>1</td>\n",
       "      <td>0</td>\n",
       "      <td>108</td>\n",
       "    </tr>\n",
       "    <tr>\n",
       "      <th>20</th>\n",
       "      <td>65.000</td>\n",
       "      <td>1</td>\n",
       "      <td>25</td>\n",
       "      <td>1</td>\n",
       "      <td>276000.0</td>\n",
       "      <td>1.3</td>\n",
       "      <td>137</td>\n",
       "      <td>0</td>\n",
       "      <td>0</td>\n",
       "      <td>16</td>\n",
       "    </tr>\n",
       "    <tr>\n",
       "      <th>32</th>\n",
       "      <td>50.000</td>\n",
       "      <td>1</td>\n",
       "      <td>35</td>\n",
       "      <td>1</td>\n",
       "      <td>319000.0</td>\n",
       "      <td>1.0</td>\n",
       "      <td>128</td>\n",
       "      <td>0</td>\n",
       "      <td>0</td>\n",
       "      <td>28</td>\n",
       "    </tr>\n",
       "  </tbody>\n",
       "</table>\n",
       "<p>173 rows × 10 columns</p>\n",
       "</div>"
      ],
      "text/plain": [
       "        age  anaemia  ejection_fraction  high_blood_pressure  platelets  \\\n",
       "86   44.000        0                 40                    1   235000.0   \n",
       "240  53.000        0                 40                    0   223000.0   \n",
       "101  42.000        0                 30                    0   226000.0   \n",
       "5    90.000        1                 40                    1   204000.0   \n",
       "283  63.000        1                 35                    0   179000.0   \n",
       "..      ...      ...                ...                  ...        ...   \n",
       "179  60.667        1                 30                    0   389000.0   \n",
       "288  50.000        0                 45                    0   395000.0   \n",
       "133  68.000        1                 25                    0   305000.0   \n",
       "20   65.000        1                 25                    1   276000.0   \n",
       "32   50.000        1                 35                    1   319000.0   \n",
       "\n",
       "     serum_creatinine  serum_sodium  sex  smoking  time  \n",
       "86                0.7           139    1        0    79  \n",
       "240               1.2           130    0        0   214  \n",
       "101               1.0           140    1        1    87  \n",
       "5                 2.1           132    1        1     8  \n",
       "283               0.9           136    1        1   270  \n",
       "..                ...           ...  ...      ...   ...  \n",
       "179               1.5           136    1        0   171  \n",
       "288               1.6           136    1        1   285  \n",
       "133               2.1           130    1        0   108  \n",
       "20                1.3           137    0        0    16  \n",
       "32                1.0           128    0        0    28  \n",
       "\n",
       "[173 rows x 10 columns]"
      ]
     },
     "execution_count": 34,
     "metadata": {},
     "output_type": "execute_result"
    }
   ],
   "source": [
    "X_train_cd"
   ]
  },
  {
   "cell_type": "markdown",
   "id": "ed384d37",
   "metadata": {},
   "source": [
    "### Scaling"
   ]
  },
  {
   "cell_type": "markdown",
   "id": "451c2b62",
   "metadata": {},
   "source": [
    "Setelah kolom-kolom tersebut di hapus, barulah data ini saya lakukan scaling:"
   ]
  },
  {
   "cell_type": "code",
   "execution_count": 35,
   "id": "8a8d9357",
   "metadata": {},
   "outputs": [],
   "source": [
    "from sklearn.preprocessing import StandardScaler\n",
    "\n",
    "scaler = StandardScaler()\n",
    "\n",
    "X_train_scaleds = scaler.fit_transform(X_train_cd)\n",
    "X_test_scaleds = scaler.transform(X_test_cd)"
   ]
  },
  {
   "cell_type": "markdown",
   "id": "843442b2",
   "metadata": {},
   "source": [
    "Dengan ini sudah selesai tahapan data preprocessing. Saya akan masuk ke pemodelan."
   ]
  },
  {
   "cell_type": "markdown",
   "id": "c8699290",
   "metadata": {},
   "source": [
    "# Random Forest"
   ]
  },
  {
   "cell_type": "markdown",
   "id": "821d2c38",
   "metadata": {},
   "source": [
    "Untuk dataseti ini, diminta melakukan modeling dengan menggunakan Random Forest dan Boosting. Saya akan menggunakan Random Forest terlebih dahulu."
   ]
  },
  {
   "cell_type": "markdown",
   "id": "a44765f2",
   "metadata": {},
   "source": [
    "## Random Forest Classifier Base Model"
   ]
  },
  {
   "cell_type": "markdown",
   "id": "1d6e4a49",
   "metadata": {},
   "source": [
    "Random Forest yang digunakan adalah jenis Classifier karena dataset ini merupakan binary classification yang targetnya berupa 0 atau 1 (Hidup atau Meninggal)."
   ]
  },
  {
   "cell_type": "markdown",
   "id": "6eb888c1",
   "metadata": {},
   "source": [
    "Saya akan melakukan modeling dengan Base Model pada Random Forest Classifier sebelum melakukan modeling dengan hyperparameter tuning."
   ]
  },
  {
   "cell_type": "markdown",
   "id": "ef612c00",
   "metadata": {},
   "source": [
    "### Model Training"
   ]
  },
  {
   "cell_type": "markdown",
   "id": "69246f3f",
   "metadata": {},
   "source": [
    "Sebagai permulaan saya akan melakukan _import library_ yang digunakan dan melakukan model traning"
   ]
  },
  {
   "cell_type": "code",
   "execution_count": 36,
   "id": "d58ff302",
   "metadata": {},
   "outputs": [],
   "source": [
    "from sklearn.ensemble import RandomForestClassifier\n",
    "\n",
    "rf = RandomForestClassifier()"
   ]
  },
  {
   "cell_type": "markdown",
   "id": "fecaa5d2",
   "metadata": {},
   "source": [
    "Lalu melakukan training pada train set"
   ]
  },
  {
   "cell_type": "code",
   "execution_count": 37,
   "id": "f838b7fb",
   "metadata": {},
   "outputs": [
    {
     "data": {
      "text/plain": [
       "RandomForestClassifier()"
      ]
     },
     "execution_count": 37,
     "metadata": {},
     "output_type": "execute_result"
    }
   ],
   "source": [
    "rf.fit(X_train_scaleds, y_train)"
   ]
  },
  {
   "cell_type": "markdown",
   "id": "091f5fa3",
   "metadata": {},
   "source": [
    "### Model Evaluation"
   ]
  },
  {
   "cell_type": "markdown",
   "id": "cb0e342e",
   "metadata": {},
   "source": [
    "Setelah melakukan model traning, saya melakukan model evaluation. Disini saya menggunakan accuracy score, cross validate, dan classification report, serta recall score:"
   ]
  },
  {
   "cell_type": "code",
   "execution_count": 38,
   "id": "84df5485",
   "metadata": {},
   "outputs": [
    {
     "name": "stdout",
     "output_type": "stream",
     "text": [
      "Accuracy of Random Forest Classifier on training set: 1.00\n",
      "Accuracy of Random Forest Classifier on test set: 0.83\n",
      "Accuracy Score: 0.8275862068965517\n"
     ]
    }
   ],
   "source": [
    "from sklearn.metrics import accuracy_score\n",
    "print('Accuracy of Random Forest Classifier on training set: {:.2f}'.format(rf.score(X_train_scaleds, y_train)))\n",
    "print('Accuracy of Random Forest Classifier on test set: {:.2f}'.format(rf.score(X_test_scaleds, y_test)))\n",
    "\n",
    "pred = rf.predict(X_test_scaleds)\n",
    "print(\"Accuracy Score: {}\".format(accuracy_score(y_test, pred)))"
   ]
  },
  {
   "cell_type": "code",
   "execution_count": 39,
   "id": "6a5aeb57",
   "metadata": {},
   "outputs": [
    {
     "name": "stdout",
     "output_type": "stream",
     "text": [
      "Average score of Train Cross Validation is 0.8203361344537816\n",
      "Average score of Test Cross Validation is 0.8445652173913043\n"
     ]
    }
   ],
   "source": [
    "from sklearn.model_selection import cross_validate\n",
    "\n",
    "cv_results_rf = cross_validate(rf, X_train_scaleds,y_train, scoring=('accuracy'), return_train_score=True)\n",
    "print(f\"Average score of Train Cross Validation is {cv_results_rf['test_score'].mean()}\")\n",
    "\n",
    "cv_results_rf_test = cross_validate(rf, X_test_scaleds,y_test, scoring=('accuracy'), return_train_score=True)\n",
    "print(f\"Average score of Test Cross Validation is {cv_results_rf_test['test_score'].mean()}\")"
   ]
  },
  {
   "cell_type": "code",
   "execution_count": 40,
   "id": "3a036bc9",
   "metadata": {},
   "outputs": [
    {
     "name": "stdout",
     "output_type": "stream",
     "text": [
      "              precision    recall  f1-score   support\n",
      "\n",
      "           0       0.92      0.82      0.87        79\n",
      "           1       0.69      0.84      0.76        37\n",
      "\n",
      "    accuracy                           0.83       116\n",
      "   macro avg       0.80      0.83      0.81       116\n",
      "weighted avg       0.84      0.83      0.83       116\n",
      "\n"
     ]
    }
   ],
   "source": [
    "from sklearn.metrics import classification_report\n",
    "\n",
    "print(classification_report(y_test, pred))"
   ]
  },
  {
   "cell_type": "code",
   "execution_count": 41,
   "id": "976d8e94",
   "metadata": {},
   "outputs": [
    {
     "name": "stdout",
     "output_type": "stream",
     "text": [
      "Recall: 0.837838 \n"
     ]
    }
   ],
   "source": [
    "from sklearn.metrics import recall_score\n",
    "\n",
    "print(\"Recall: %f \"%recall_score(y_test, pred))"
   ]
  },
  {
   "cell_type": "markdown",
   "id": "e887ae28",
   "metadata": {},
   "source": [
    "## Random Forest Classifier GridSearchCV"
   ]
  },
  {
   "cell_type": "markdown",
   "id": "1cf7c271",
   "metadata": {},
   "source": [
    "Berikutnya saya akan mencoba melakukan Hyperparameter Tuning dari algoritma Random Forest classifier ini dengan menggunakan GridSearchCV."
   ]
  },
  {
   "cell_type": "markdown",
   "id": "a891a69f",
   "metadata": {},
   "source": [
    "### Model Training"
   ]
  },
  {
   "cell_type": "markdown",
   "id": "a94858b4",
   "metadata": {},
   "source": [
    "Seperti biasa, akan dilakukan _import library_ yang dibutuhkan"
   ]
  },
  {
   "cell_type": "code",
   "execution_count": 42,
   "id": "54b89250",
   "metadata": {},
   "outputs": [],
   "source": [
    "from sklearn.ensemble import RandomForestClassifier\n",
    "\n",
    "#Create Classifiers\n",
    "rfs = RandomForestClassifier()"
   ]
  },
  {
   "cell_type": "markdown",
   "id": "7020231b",
   "metadata": {},
   "source": [
    "Lalu melakukan definisi dari parameter dan menjalankan hyperparameter tuning :"
   ]
  },
  {
   "cell_type": "code",
   "execution_count": 43,
   "id": "b261c77e",
   "metadata": {},
   "outputs": [],
   "source": [
    "params_rf = {'n_estimators' : [5,20,50,100],\n",
    "          'max_features' : ['auto', 'sqrt'],\n",
    "            'min_samples_split' : [2,5,10],\n",
    "            'min_samples_leaf' : [10,20,50,100],\n",
    "            'bootstrap':[True, False]}"
   ]
  },
  {
   "cell_type": "code",
   "execution_count": 44,
   "id": "25d6fb00",
   "metadata": {},
   "outputs": [],
   "source": [
    "from sklearn.model_selection import GridSearchCV\n",
    "rf_grid = GridSearchCV(estimator = rfs, param_grid = params_rf, cv=4, verbose=1, scoring=\"accuracy\")"
   ]
  },
  {
   "cell_type": "code",
   "execution_count": 45,
   "id": "8a2f2011",
   "metadata": {},
   "outputs": [
    {
     "name": "stdout",
     "output_type": "stream",
     "text": [
      "Fitting 4 folds for each of 192 candidates, totalling 768 fits\n",
      "Wall time: 29.3 s\n"
     ]
    },
    {
     "data": {
      "text/plain": [
       "GridSearchCV(cv=4, estimator=RandomForestClassifier(),\n",
       "             param_grid={'bootstrap': [True, False],\n",
       "                         'max_features': ['auto', 'sqrt'],\n",
       "                         'min_samples_leaf': [10, 20, 50, 100],\n",
       "                         'min_samples_split': [2, 5, 10],\n",
       "                         'n_estimators': [5, 20, 50, 100]},\n",
       "             scoring='accuracy', verbose=1)"
      ]
     },
     "execution_count": 45,
     "metadata": {},
     "output_type": "execute_result"
    }
   ],
   "source": [
    "%%time\n",
    "rf_grid.fit(X_train_scaleds, y_train)"
   ]
  },
  {
   "cell_type": "code",
   "execution_count": 46,
   "id": "e86f0902",
   "metadata": {
    "scrolled": true
   },
   "outputs": [
    {
     "name": "stdout",
     "output_type": "stream",
     "text": [
      "Tuned Random Forest Parameters: {'bootstrap': False, 'max_features': 'sqrt', 'min_samples_leaf': 10, 'min_samples_split': 5, 'n_estimators': 5}\n",
      "Best score is 0.8668076109936574\n"
     ]
    }
   ],
   "source": [
    "# Print the tuned parameters and score\n",
    "print(\"Tuned Random Forest Parameters: {}\".format(rf_grid.best_params_))\n",
    "print(\"Best score is {}\".format(rf_grid.best_score_))"
   ]
  },
  {
   "cell_type": "markdown",
   "id": "070dd9fe",
   "metadata": {},
   "source": [
    "Lalu melakukan model traning dengan parameter yang telah di tuning :"
   ]
  },
  {
   "cell_type": "code",
   "execution_count": 47,
   "id": "df932607",
   "metadata": {},
   "outputs": [],
   "source": [
    "rfbest = RandomForestClassifier(n_estimators = rf_grid.best_params_['n_estimators'],\n",
    "                                max_features = rf_grid.best_params_['max_features'],\n",
    "                                min_samples_split = rf_grid.best_params_['min_samples_leaf'],\n",
    "                                min_samples_leaf = rf_grid.best_params_['min_samples_leaf'],\n",
    "                                bootstrap = rf_grid.best_params_['bootstrap'])"
   ]
  },
  {
   "cell_type": "code",
   "execution_count": 48,
   "id": "0c60966d",
   "metadata": {},
   "outputs": [
    {
     "data": {
      "text/plain": [
       "RandomForestClassifier(bootstrap=False, max_features='sqrt',\n",
       "                       min_samples_leaf=10, min_samples_split=10,\n",
       "                       n_estimators=5)"
      ]
     },
     "execution_count": 48,
     "metadata": {},
     "output_type": "execute_result"
    }
   ],
   "source": [
    "rfbest.fit(X_train_scaleds,y_train)"
   ]
  },
  {
   "cell_type": "markdown",
   "id": "f9683fc4",
   "metadata": {},
   "source": [
    "### Model Evaluation"
   ]
  },
  {
   "cell_type": "markdown",
   "id": "adaabc7b",
   "metadata": {},
   "source": [
    "Setelah melakukan model traning, saya melakukan model evaluation. Disini saya menggunakan accuracy score, cross validate, dan classification report, serta recall score:"
   ]
  },
  {
   "cell_type": "code",
   "execution_count": 49,
   "id": "6fde3a9c",
   "metadata": {},
   "outputs": [
    {
     "name": "stdout",
     "output_type": "stream",
     "text": [
      "Accuracy of Random Forest classifier on training set: 0.90\n",
      "Accuracy of Random Forest classifier on test set: 0.83\n",
      "Accuracy Score: 0.8275862068965517\n"
     ]
    }
   ],
   "source": [
    "from sklearn.metrics import accuracy_score\n",
    "print('Accuracy of Random Forest classifier on training set: {:.2f}'.format(rfbest.score(X_train_scaleds, y_train)))\n",
    "print('Accuracy of Random Forest classifier on test set: {:.2f}'.format(rfbest.score(X_test_scaleds, y_test)))\n",
    "\n",
    "pred = rfbest.predict(X_test_scaleds)\n",
    "print(\"Accuracy Score: {}\".format(accuracy_score(y_test, pred)))"
   ]
  },
  {
   "cell_type": "code",
   "execution_count": 50,
   "id": "9153514c",
   "metadata": {},
   "outputs": [
    {
     "name": "stdout",
     "output_type": "stream",
     "text": [
      "Average score of Train Cross Validation is 0.8258823529411764\n",
      "Average score of Test Cross Validation is 0.8271739130434783\n"
     ]
    }
   ],
   "source": [
    "from sklearn.model_selection import cross_validate\n",
    "\n",
    "cv_results_rf = cross_validate(rfbest, X_train_scaleds,y_train, scoring=('accuracy'), return_train_score=True)\n",
    "print(f\"Average score of Train Cross Validation is {cv_results_rf['test_score'].mean()}\")\n",
    "\n",
    "cv_results_rf_test = cross_validate(rfbest, X_test_scaleds,y_test, scoring=('accuracy'), return_train_score=True)\n",
    "print(f\"Average score of Test Cross Validation is {cv_results_rf_test['test_score'].mean()}\")"
   ]
  },
  {
   "cell_type": "code",
   "execution_count": 51,
   "id": "2bbbe5f9",
   "metadata": {},
   "outputs": [
    {
     "name": "stdout",
     "output_type": "stream",
     "text": [
      "              precision    recall  f1-score   support\n",
      "\n",
      "           0       0.89      0.85      0.87        79\n",
      "           1       0.71      0.78      0.74        37\n",
      "\n",
      "    accuracy                           0.83       116\n",
      "   macro avg       0.80      0.82      0.81       116\n",
      "weighted avg       0.83      0.83      0.83       116\n",
      "\n"
     ]
    }
   ],
   "source": [
    "from sklearn.metrics import classification_report\n",
    "\n",
    "print(classification_report(y_test, pred))"
   ]
  },
  {
   "cell_type": "code",
   "execution_count": 53,
   "id": "d335b2e2",
   "metadata": {},
   "outputs": [
    {
     "name": "stdout",
     "output_type": "stream",
     "text": [
      "Recall: 0.783784 \n"
     ]
    }
   ],
   "source": [
    "from sklearn.metrics import recall_score\n",
    "\n",
    "print(\"Recall: %f \"%recall_score(y_test, pred))"
   ]
  },
  {
   "cell_type": "markdown",
   "id": "7c3eeb54",
   "metadata": {},
   "source": [
    "## Model Inference"
   ]
  },
  {
   "cell_type": "markdown",
   "id": "11debf39",
   "metadata": {},
   "source": [
    "Untuk model inference saya akan menggunakan algoritma Random Forest Classifier yang dengan hyperparameter tuning"
   ]
  },
  {
   "cell_type": "markdown",
   "id": "a5bf18a2",
   "metadata": {},
   "source": [
    "Berikut adalah data inference yang sebelumnya telah dipisahkan dari data training dan testing:"
   ]
  },
  {
   "cell_type": "code",
   "execution_count": 54,
   "id": "b6088a63",
   "metadata": {},
   "outputs": [
    {
     "data": {
      "text/html": [
       "<div>\n",
       "<style scoped>\n",
       "    .dataframe tbody tr th:only-of-type {\n",
       "        vertical-align: middle;\n",
       "    }\n",
       "\n",
       "    .dataframe tbody tr th {\n",
       "        vertical-align: top;\n",
       "    }\n",
       "\n",
       "    .dataframe thead th {\n",
       "        text-align: right;\n",
       "    }\n",
       "</style>\n",
       "<table border=\"1\" class=\"dataframe\">\n",
       "  <thead>\n",
       "    <tr style=\"text-align: right;\">\n",
       "      <th></th>\n",
       "      <th>age</th>\n",
       "      <th>anaemia</th>\n",
       "      <th>creatinine_phosphokinase</th>\n",
       "      <th>diabetes</th>\n",
       "      <th>ejection_fraction</th>\n",
       "      <th>high_blood_pressure</th>\n",
       "      <th>platelets</th>\n",
       "      <th>serum_creatinine</th>\n",
       "      <th>serum_sodium</th>\n",
       "      <th>sex</th>\n",
       "      <th>smoking</th>\n",
       "      <th>time</th>\n",
       "      <th>DEATH_EVENT</th>\n",
       "    </tr>\n",
       "  </thead>\n",
       "  <tbody>\n",
       "    <tr>\n",
       "      <th>0</th>\n",
       "      <td>85.0</td>\n",
       "      <td>0</td>\n",
       "      <td>129</td>\n",
       "      <td>0</td>\n",
       "      <td>60</td>\n",
       "      <td>0</td>\n",
       "      <td>306000.00</td>\n",
       "      <td>1.20</td>\n",
       "      <td>132</td>\n",
       "      <td>1</td>\n",
       "      <td>1</td>\n",
       "      <td>90</td>\n",
       "      <td>1</td>\n",
       "    </tr>\n",
       "    <tr>\n",
       "      <th>1</th>\n",
       "      <td>70.0</td>\n",
       "      <td>1</td>\n",
       "      <td>75</td>\n",
       "      <td>0</td>\n",
       "      <td>35</td>\n",
       "      <td>0</td>\n",
       "      <td>223000.00</td>\n",
       "      <td>2.70</td>\n",
       "      <td>138</td>\n",
       "      <td>1</td>\n",
       "      <td>1</td>\n",
       "      <td>54</td>\n",
       "      <td>0</td>\n",
       "    </tr>\n",
       "    <tr>\n",
       "      <th>2</th>\n",
       "      <td>60.0</td>\n",
       "      <td>1</td>\n",
       "      <td>1082</td>\n",
       "      <td>1</td>\n",
       "      <td>45</td>\n",
       "      <td>0</td>\n",
       "      <td>250000.00</td>\n",
       "      <td>6.10</td>\n",
       "      <td>131</td>\n",
       "      <td>1</td>\n",
       "      <td>0</td>\n",
       "      <td>107</td>\n",
       "      <td>0</td>\n",
       "    </tr>\n",
       "    <tr>\n",
       "      <th>3</th>\n",
       "      <td>45.0</td>\n",
       "      <td>0</td>\n",
       "      <td>308</td>\n",
       "      <td>1</td>\n",
       "      <td>60</td>\n",
       "      <td>1</td>\n",
       "      <td>377000.00</td>\n",
       "      <td>1.00</td>\n",
       "      <td>136</td>\n",
       "      <td>1</td>\n",
       "      <td>0</td>\n",
       "      <td>186</td>\n",
       "      <td>0</td>\n",
       "    </tr>\n",
       "    <tr>\n",
       "      <th>4</th>\n",
       "      <td>50.0</td>\n",
       "      <td>0</td>\n",
       "      <td>124</td>\n",
       "      <td>1</td>\n",
       "      <td>30</td>\n",
       "      <td>1</td>\n",
       "      <td>153000.00</td>\n",
       "      <td>1.20</td>\n",
       "      <td>136</td>\n",
       "      <td>0</td>\n",
       "      <td>1</td>\n",
       "      <td>32</td>\n",
       "      <td>1</td>\n",
       "    </tr>\n",
       "    <tr>\n",
       "      <th>5</th>\n",
       "      <td>50.0</td>\n",
       "      <td>1</td>\n",
       "      <td>1051</td>\n",
       "      <td>1</td>\n",
       "      <td>30</td>\n",
       "      <td>0</td>\n",
       "      <td>232000.00</td>\n",
       "      <td>0.70</td>\n",
       "      <td>136</td>\n",
       "      <td>0</td>\n",
       "      <td>0</td>\n",
       "      <td>246</td>\n",
       "      <td>0</td>\n",
       "    </tr>\n",
       "    <tr>\n",
       "      <th>6</th>\n",
       "      <td>65.0</td>\n",
       "      <td>0</td>\n",
       "      <td>582</td>\n",
       "      <td>1</td>\n",
       "      <td>30</td>\n",
       "      <td>0</td>\n",
       "      <td>249000.00</td>\n",
       "      <td>1.30</td>\n",
       "      <td>136</td>\n",
       "      <td>1</td>\n",
       "      <td>1</td>\n",
       "      <td>212</td>\n",
       "      <td>0</td>\n",
       "    </tr>\n",
       "    <tr>\n",
       "      <th>7</th>\n",
       "      <td>55.0</td>\n",
       "      <td>1</td>\n",
       "      <td>180</td>\n",
       "      <td>0</td>\n",
       "      <td>45</td>\n",
       "      <td>0</td>\n",
       "      <td>263358.03</td>\n",
       "      <td>1.18</td>\n",
       "      <td>137</td>\n",
       "      <td>1</td>\n",
       "      <td>1</td>\n",
       "      <td>211</td>\n",
       "      <td>0</td>\n",
       "    </tr>\n",
       "    <tr>\n",
       "      <th>8</th>\n",
       "      <td>50.0</td>\n",
       "      <td>0</td>\n",
       "      <td>1846</td>\n",
       "      <td>1</td>\n",
       "      <td>35</td>\n",
       "      <td>0</td>\n",
       "      <td>263358.03</td>\n",
       "      <td>1.18</td>\n",
       "      <td>137</td>\n",
       "      <td>1</td>\n",
       "      <td>1</td>\n",
       "      <td>119</td>\n",
       "      <td>0</td>\n",
       "    </tr>\n",
       "    <tr>\n",
       "      <th>9</th>\n",
       "      <td>72.0</td>\n",
       "      <td>0</td>\n",
       "      <td>233</td>\n",
       "      <td>0</td>\n",
       "      <td>45</td>\n",
       "      <td>1</td>\n",
       "      <td>235000.00</td>\n",
       "      <td>2.50</td>\n",
       "      <td>135</td>\n",
       "      <td>0</td>\n",
       "      <td>0</td>\n",
       "      <td>115</td>\n",
       "      <td>1</td>\n",
       "    </tr>\n",
       "  </tbody>\n",
       "</table>\n",
       "</div>"
      ],
      "text/plain": [
       "    age  anaemia  creatinine_phosphokinase  diabetes  ejection_fraction  \\\n",
       "0  85.0        0                       129         0                 60   \n",
       "1  70.0        1                        75         0                 35   \n",
       "2  60.0        1                      1082         1                 45   \n",
       "3  45.0        0                       308         1                 60   \n",
       "4  50.0        0                       124         1                 30   \n",
       "5  50.0        1                      1051         1                 30   \n",
       "6  65.0        0                       582         1                 30   \n",
       "7  55.0        1                       180         0                 45   \n",
       "8  50.0        0                      1846         1                 35   \n",
       "9  72.0        0                       233         0                 45   \n",
       "\n",
       "   high_blood_pressure  platelets  serum_creatinine  serum_sodium  sex  \\\n",
       "0                    0  306000.00              1.20           132    1   \n",
       "1                    0  223000.00              2.70           138    1   \n",
       "2                    0  250000.00              6.10           131    1   \n",
       "3                    1  377000.00              1.00           136    1   \n",
       "4                    1  153000.00              1.20           136    0   \n",
       "5                    0  232000.00              0.70           136    0   \n",
       "6                    0  249000.00              1.30           136    1   \n",
       "7                    0  263358.03              1.18           137    1   \n",
       "8                    0  263358.03              1.18           137    1   \n",
       "9                    1  235000.00              2.50           135    0   \n",
       "\n",
       "   smoking  time  DEATH_EVENT  \n",
       "0        1    90            1  \n",
       "1        1    54            0  \n",
       "2        0   107            0  \n",
       "3        0   186            0  \n",
       "4        1    32            1  \n",
       "5        0   246            0  \n",
       "6        1   212            0  \n",
       "7        1   211            0  \n",
       "8        1   119            0  \n",
       "9        0   115            1  "
      ]
     },
     "execution_count": 54,
     "metadata": {},
     "output_type": "execute_result"
    }
   ],
   "source": [
    "data_inf"
   ]
  },
  {
   "cell_type": "code",
   "execution_count": 55,
   "id": "371fd84a",
   "metadata": {},
   "outputs": [
    {
     "name": "stdout",
     "output_type": "stream",
     "text": [
      "<class 'pandas.core.frame.DataFrame'>\n",
      "RangeIndex: 10 entries, 0 to 9\n",
      "Data columns (total 13 columns):\n",
      " #   Column                    Non-Null Count  Dtype  \n",
      "---  ------                    --------------  -----  \n",
      " 0   age                       10 non-null     float64\n",
      " 1   anaemia                   10 non-null     int64  \n",
      " 2   creatinine_phosphokinase  10 non-null     int64  \n",
      " 3   diabetes                  10 non-null     int64  \n",
      " 4   ejection_fraction         10 non-null     int64  \n",
      " 5   high_blood_pressure       10 non-null     int64  \n",
      " 6   platelets                 10 non-null     float64\n",
      " 7   serum_creatinine          10 non-null     float64\n",
      " 8   serum_sodium              10 non-null     int64  \n",
      " 9   sex                       10 non-null     int64  \n",
      " 10  smoking                   10 non-null     int64  \n",
      " 11  time                      10 non-null     int64  \n",
      " 12  DEATH_EVENT               10 non-null     int64  \n",
      "dtypes: float64(3), int64(10)\n",
      "memory usage: 1.1 KB\n"
     ]
    }
   ],
   "source": [
    "data_inf.info()"
   ]
  },
  {
   "cell_type": "markdown",
   "id": "7b3707a1",
   "metadata": {},
   "source": [
    "Karena data ini tidak ada jenis yang berupa kategorikal, saya akan langsung melakukan drop columns pada kolom-kolom yang juga di drop pada data train test sebelumnya (karena memanfaatkan feature scaling)."
   ]
  },
  {
   "cell_type": "code",
   "execution_count": 56,
   "id": "5df26dd3",
   "metadata": {},
   "outputs": [],
   "source": [
    "data_inf_cd = data_inf.drop(columns=['creatinine_phosphokinase', 'diabetes', 'DEATH_EVENT'])"
   ]
  },
  {
   "cell_type": "markdown",
   "id": "68ae367f",
   "metadata": {},
   "source": [
    "Kemudian saya melakukan scaling pada data inference ini:"
   ]
  },
  {
   "cell_type": "code",
   "execution_count": 57,
   "id": "27086c54",
   "metadata": {},
   "outputs": [
    {
     "data": {
      "text/plain": [
       "StandardScaler()"
      ]
     },
     "execution_count": 57,
     "metadata": {},
     "output_type": "execute_result"
    }
   ],
   "source": [
    "scaler = StandardScaler()\n",
    "scaler.fit(X_train_scaleds)"
   ]
  },
  {
   "cell_type": "code",
   "execution_count": 58,
   "id": "53bb9ed4",
   "metadata": {},
   "outputs": [],
   "source": [
    "data_inf_fin = scaler.transform(data_inf_cd)"
   ]
  },
  {
   "cell_type": "markdown",
   "id": "b0646533",
   "metadata": {},
   "source": [
    "## Predict Model Inference"
   ]
  },
  {
   "cell_type": "markdown",
   "id": "e1659616",
   "metadata": {},
   "source": [
    "Menggunakan data inference yang telah di prepare ini, saya melakukan predict dengan menggunakan algoritma Random Forest Classifier dengan Hyperparameter Tuning dan menunjukkan hasil prediksinya:"
   ]
  },
  {
   "cell_type": "code",
   "execution_count": 59,
   "id": "cece3c18",
   "metadata": {},
   "outputs": [
    {
     "data": {
      "text/html": [
       "<div>\n",
       "<style scoped>\n",
       "    .dataframe tbody tr th:only-of-type {\n",
       "        vertical-align: middle;\n",
       "    }\n",
       "\n",
       "    .dataframe tbody tr th {\n",
       "        vertical-align: top;\n",
       "    }\n",
       "\n",
       "    .dataframe thead th {\n",
       "        text-align: right;\n",
       "    }\n",
       "</style>\n",
       "<table border=\"1\" class=\"dataframe\">\n",
       "  <thead>\n",
       "    <tr style=\"text-align: right;\">\n",
       "      <th></th>\n",
       "      <th>DEATH - Prediction</th>\n",
       "    </tr>\n",
       "  </thead>\n",
       "  <tbody>\n",
       "    <tr>\n",
       "      <th>0</th>\n",
       "      <td>1</td>\n",
       "    </tr>\n",
       "    <tr>\n",
       "      <th>1</th>\n",
       "      <td>1</td>\n",
       "    </tr>\n",
       "    <tr>\n",
       "      <th>2</th>\n",
       "      <td>1</td>\n",
       "    </tr>\n",
       "    <tr>\n",
       "      <th>3</th>\n",
       "      <td>1</td>\n",
       "    </tr>\n",
       "    <tr>\n",
       "      <th>4</th>\n",
       "      <td>1</td>\n",
       "    </tr>\n",
       "    <tr>\n",
       "      <th>5</th>\n",
       "      <td>1</td>\n",
       "    </tr>\n",
       "    <tr>\n",
       "      <th>6</th>\n",
       "      <td>1</td>\n",
       "    </tr>\n",
       "    <tr>\n",
       "      <th>7</th>\n",
       "      <td>1</td>\n",
       "    </tr>\n",
       "    <tr>\n",
       "      <th>8</th>\n",
       "      <td>1</td>\n",
       "    </tr>\n",
       "    <tr>\n",
       "      <th>9</th>\n",
       "      <td>1</td>\n",
       "    </tr>\n",
       "  </tbody>\n",
       "</table>\n",
       "</div>"
      ],
      "text/plain": [
       "   DEATH - Prediction\n",
       "0                   1\n",
       "1                   1\n",
       "2                   1\n",
       "3                   1\n",
       "4                   1\n",
       "5                   1\n",
       "6                   1\n",
       "7                   1\n",
       "8                   1\n",
       "9                   1"
      ]
     },
     "execution_count": 59,
     "metadata": {},
     "output_type": "execute_result"
    }
   ],
   "source": [
    "#predict model inference\n",
    "\n",
    "y_pred_inf = rfbest.predict(data_inf_fin)\n",
    "y_pred_inf = pd.DataFrame(y_pred_inf, columns = ['DEATH - Prediction'])\n",
    "y_pred_inf"
   ]
  },
  {
   "cell_type": "markdown",
   "id": "8a7130ed",
   "metadata": {},
   "source": [
    "Hasil prediksi tersebut kemudian saya gabungkan dengan dataset inference awal;"
   ]
  },
  {
   "cell_type": "code",
   "execution_count": 60,
   "id": "3996f91f",
   "metadata": {},
   "outputs": [
    {
     "data": {
      "text/html": [
       "<div>\n",
       "<style scoped>\n",
       "    .dataframe tbody tr th:only-of-type {\n",
       "        vertical-align: middle;\n",
       "    }\n",
       "\n",
       "    .dataframe tbody tr th {\n",
       "        vertical-align: top;\n",
       "    }\n",
       "\n",
       "    .dataframe thead th {\n",
       "        text-align: right;\n",
       "    }\n",
       "</style>\n",
       "<table border=\"1\" class=\"dataframe\">\n",
       "  <thead>\n",
       "    <tr style=\"text-align: right;\">\n",
       "      <th></th>\n",
       "      <th>age</th>\n",
       "      <th>anaemia</th>\n",
       "      <th>creatinine_phosphokinase</th>\n",
       "      <th>diabetes</th>\n",
       "      <th>ejection_fraction</th>\n",
       "      <th>high_blood_pressure</th>\n",
       "      <th>platelets</th>\n",
       "      <th>serum_creatinine</th>\n",
       "      <th>serum_sodium</th>\n",
       "      <th>sex</th>\n",
       "      <th>smoking</th>\n",
       "      <th>time</th>\n",
       "      <th>DEATH_EVENT</th>\n",
       "      <th>DEATH - Prediction</th>\n",
       "    </tr>\n",
       "  </thead>\n",
       "  <tbody>\n",
       "    <tr>\n",
       "      <th>0</th>\n",
       "      <td>85.0</td>\n",
       "      <td>0</td>\n",
       "      <td>129</td>\n",
       "      <td>0</td>\n",
       "      <td>60</td>\n",
       "      <td>0</td>\n",
       "      <td>306000.00</td>\n",
       "      <td>1.20</td>\n",
       "      <td>132</td>\n",
       "      <td>1</td>\n",
       "      <td>1</td>\n",
       "      <td>90</td>\n",
       "      <td>1</td>\n",
       "      <td>1</td>\n",
       "    </tr>\n",
       "    <tr>\n",
       "      <th>1</th>\n",
       "      <td>70.0</td>\n",
       "      <td>1</td>\n",
       "      <td>75</td>\n",
       "      <td>0</td>\n",
       "      <td>35</td>\n",
       "      <td>0</td>\n",
       "      <td>223000.00</td>\n",
       "      <td>2.70</td>\n",
       "      <td>138</td>\n",
       "      <td>1</td>\n",
       "      <td>1</td>\n",
       "      <td>54</td>\n",
       "      <td>0</td>\n",
       "      <td>1</td>\n",
       "    </tr>\n",
       "    <tr>\n",
       "      <th>2</th>\n",
       "      <td>60.0</td>\n",
       "      <td>1</td>\n",
       "      <td>1082</td>\n",
       "      <td>1</td>\n",
       "      <td>45</td>\n",
       "      <td>0</td>\n",
       "      <td>250000.00</td>\n",
       "      <td>6.10</td>\n",
       "      <td>131</td>\n",
       "      <td>1</td>\n",
       "      <td>0</td>\n",
       "      <td>107</td>\n",
       "      <td>0</td>\n",
       "      <td>1</td>\n",
       "    </tr>\n",
       "    <tr>\n",
       "      <th>3</th>\n",
       "      <td>45.0</td>\n",
       "      <td>0</td>\n",
       "      <td>308</td>\n",
       "      <td>1</td>\n",
       "      <td>60</td>\n",
       "      <td>1</td>\n",
       "      <td>377000.00</td>\n",
       "      <td>1.00</td>\n",
       "      <td>136</td>\n",
       "      <td>1</td>\n",
       "      <td>0</td>\n",
       "      <td>186</td>\n",
       "      <td>0</td>\n",
       "      <td>1</td>\n",
       "    </tr>\n",
       "    <tr>\n",
       "      <th>4</th>\n",
       "      <td>50.0</td>\n",
       "      <td>0</td>\n",
       "      <td>124</td>\n",
       "      <td>1</td>\n",
       "      <td>30</td>\n",
       "      <td>1</td>\n",
       "      <td>153000.00</td>\n",
       "      <td>1.20</td>\n",
       "      <td>136</td>\n",
       "      <td>0</td>\n",
       "      <td>1</td>\n",
       "      <td>32</td>\n",
       "      <td>1</td>\n",
       "      <td>1</td>\n",
       "    </tr>\n",
       "    <tr>\n",
       "      <th>5</th>\n",
       "      <td>50.0</td>\n",
       "      <td>1</td>\n",
       "      <td>1051</td>\n",
       "      <td>1</td>\n",
       "      <td>30</td>\n",
       "      <td>0</td>\n",
       "      <td>232000.00</td>\n",
       "      <td>0.70</td>\n",
       "      <td>136</td>\n",
       "      <td>0</td>\n",
       "      <td>0</td>\n",
       "      <td>246</td>\n",
       "      <td>0</td>\n",
       "      <td>1</td>\n",
       "    </tr>\n",
       "    <tr>\n",
       "      <th>6</th>\n",
       "      <td>65.0</td>\n",
       "      <td>0</td>\n",
       "      <td>582</td>\n",
       "      <td>1</td>\n",
       "      <td>30</td>\n",
       "      <td>0</td>\n",
       "      <td>249000.00</td>\n",
       "      <td>1.30</td>\n",
       "      <td>136</td>\n",
       "      <td>1</td>\n",
       "      <td>1</td>\n",
       "      <td>212</td>\n",
       "      <td>0</td>\n",
       "      <td>1</td>\n",
       "    </tr>\n",
       "    <tr>\n",
       "      <th>7</th>\n",
       "      <td>55.0</td>\n",
       "      <td>1</td>\n",
       "      <td>180</td>\n",
       "      <td>0</td>\n",
       "      <td>45</td>\n",
       "      <td>0</td>\n",
       "      <td>263358.03</td>\n",
       "      <td>1.18</td>\n",
       "      <td>137</td>\n",
       "      <td>1</td>\n",
       "      <td>1</td>\n",
       "      <td>211</td>\n",
       "      <td>0</td>\n",
       "      <td>1</td>\n",
       "    </tr>\n",
       "    <tr>\n",
       "      <th>8</th>\n",
       "      <td>50.0</td>\n",
       "      <td>0</td>\n",
       "      <td>1846</td>\n",
       "      <td>1</td>\n",
       "      <td>35</td>\n",
       "      <td>0</td>\n",
       "      <td>263358.03</td>\n",
       "      <td>1.18</td>\n",
       "      <td>137</td>\n",
       "      <td>1</td>\n",
       "      <td>1</td>\n",
       "      <td>119</td>\n",
       "      <td>0</td>\n",
       "      <td>1</td>\n",
       "    </tr>\n",
       "    <tr>\n",
       "      <th>9</th>\n",
       "      <td>72.0</td>\n",
       "      <td>0</td>\n",
       "      <td>233</td>\n",
       "      <td>0</td>\n",
       "      <td>45</td>\n",
       "      <td>1</td>\n",
       "      <td>235000.00</td>\n",
       "      <td>2.50</td>\n",
       "      <td>135</td>\n",
       "      <td>0</td>\n",
       "      <td>0</td>\n",
       "      <td>115</td>\n",
       "      <td>1</td>\n",
       "      <td>1</td>\n",
       "    </tr>\n",
       "  </tbody>\n",
       "</table>\n",
       "</div>"
      ],
      "text/plain": [
       "    age  anaemia  creatinine_phosphokinase  diabetes  ejection_fraction  \\\n",
       "0  85.0        0                       129         0                 60   \n",
       "1  70.0        1                        75         0                 35   \n",
       "2  60.0        1                      1082         1                 45   \n",
       "3  45.0        0                       308         1                 60   \n",
       "4  50.0        0                       124         1                 30   \n",
       "5  50.0        1                      1051         1                 30   \n",
       "6  65.0        0                       582         1                 30   \n",
       "7  55.0        1                       180         0                 45   \n",
       "8  50.0        0                      1846         1                 35   \n",
       "9  72.0        0                       233         0                 45   \n",
       "\n",
       "   high_blood_pressure  platelets  serum_creatinine  serum_sodium  sex  \\\n",
       "0                    0  306000.00              1.20           132    1   \n",
       "1                    0  223000.00              2.70           138    1   \n",
       "2                    0  250000.00              6.10           131    1   \n",
       "3                    1  377000.00              1.00           136    1   \n",
       "4                    1  153000.00              1.20           136    0   \n",
       "5                    0  232000.00              0.70           136    0   \n",
       "6                    0  249000.00              1.30           136    1   \n",
       "7                    0  263358.03              1.18           137    1   \n",
       "8                    0  263358.03              1.18           137    1   \n",
       "9                    1  235000.00              2.50           135    0   \n",
       "\n",
       "   smoking  time  DEATH_EVENT  DEATH - Prediction  \n",
       "0        1    90            1                   1  \n",
       "1        1    54            0                   1  \n",
       "2        0   107            0                   1  \n",
       "3        0   186            0                   1  \n",
       "4        1    32            1                   1  \n",
       "5        0   246            0                   1  \n",
       "6        1   212            0                   1  \n",
       "7        1   211            0                   1  \n",
       "8        1   119            0                   1  \n",
       "9        0   115            1                   1  "
      ]
     },
     "execution_count": 60,
     "metadata": {},
     "output_type": "execute_result"
    }
   ],
   "source": [
    "##Concate  to Original Inference - Set\n",
    "\n",
    "pd.concat([data_inf, y_pred_inf], axis=1)"
   ]
  },
  {
   "cell_type": "markdown",
   "id": "71ada364",
   "metadata": {},
   "source": [
    "# Gradient Boosting Classifier (GBC)"
   ]
  },
  {
   "cell_type": "markdown",
   "id": "5711ef3a",
   "metadata": {},
   "source": [
    "Berikutnya untuk boosting, saya akan menggunakan algoritma Gradient Boosting Classifier."
   ]
  },
  {
   "cell_type": "markdown",
   "id": "2faeec14",
   "metadata": {},
   "source": [
    "## Model Training"
   ]
  },
  {
   "cell_type": "markdown",
   "id": "614d2e46",
   "metadata": {},
   "source": [
    "Sama seperti sebelumnya, saya mengimport terlebih dahulu library yang dibutuhkan"
   ]
  },
  {
   "cell_type": "code",
   "execution_count": 61,
   "id": "eec76e28",
   "metadata": {},
   "outputs": [],
   "source": [
    "from sklearn.ensemble import GradientBoostingClassifier"
   ]
  },
  {
   "cell_type": "markdown",
   "id": "6484df4a",
   "metadata": {},
   "source": [
    "Lalu mendefinisikan parameternya dan melakukan tuning dengan GridSearchCV:"
   ]
  },
  {
   "cell_type": "code",
   "execution_count": 62,
   "id": "706a6bc5",
   "metadata": {},
   "outputs": [],
   "source": [
    "gbc = GradientBoostingClassifier()\n",
    "parameters = {\n",
    "    \"n_estimators\":[5,10,50,250],\n",
    "    \"max_depth\":[1,3,5,7, 9],\n",
    "    \"learning_rate\":[0.01,0.1,1, 10]}"
   ]
  },
  {
   "cell_type": "code",
   "execution_count": 63,
   "id": "bbeee2de",
   "metadata": {},
   "outputs": [],
   "source": [
    "gbcv = GridSearchCV(gbc,param_grid = parameters,cv=5, scoring=\"accuracy\")"
   ]
  },
  {
   "cell_type": "code",
   "execution_count": 64,
   "id": "4977940a",
   "metadata": {},
   "outputs": [
    {
     "name": "stdout",
     "output_type": "stream",
     "text": [
      "Wall time: 21.1 s\n"
     ]
    },
    {
     "data": {
      "text/plain": [
       "GridSearchCV(cv=5, estimator=GradientBoostingClassifier(),\n",
       "             param_grid={'learning_rate': [0.01, 0.1, 1, 10],\n",
       "                         'max_depth': [1, 3, 5, 7, 9],\n",
       "                         'n_estimators': [5, 10, 50, 250]},\n",
       "             scoring='accuracy')"
      ]
     },
     "execution_count": 64,
     "metadata": {},
     "output_type": "execute_result"
    }
   ],
   "source": [
    "%%time\n",
    "gbcv.fit(X_train_scaleds, y_train)"
   ]
  },
  {
   "cell_type": "code",
   "execution_count": 65,
   "id": "449230bd",
   "metadata": {},
   "outputs": [
    {
     "name": "stdout",
     "output_type": "stream",
     "text": [
      "Tuned Gradient Boosting Classifier Parameters: {'learning_rate': 0.1, 'max_depth': 3, 'n_estimators': 5}\n",
      "Best score is 0.8438655462184874\n"
     ]
    }
   ],
   "source": [
    "# Print the tuned parameters and score\n",
    "print(\"Tuned Gradient Boosting Classifier Parameters: {}\".format(gbcv.best_params_)) \n",
    "\n",
    "print(\"Best score is {}\".format(gbcv.best_score_))"
   ]
  },
  {
   "cell_type": "markdown",
   "id": "1dadee71",
   "metadata": {},
   "source": [
    "Kemudian, melakukan training dengan parameter yang telah dituning sebelumnya:"
   ]
  },
  {
   "cell_type": "code",
   "execution_count": 66,
   "id": "106cc866",
   "metadata": {},
   "outputs": [],
   "source": [
    "gbcbest = GradientBoostingClassifier(learning_rate = gbcv.best_params_['learning_rate'],\n",
    "                                max_depth = gbcv.best_params_['max_depth'],\n",
    "                                n_estimators = gbcv.best_params_['n_estimators'])"
   ]
  },
  {
   "cell_type": "code",
   "execution_count": 67,
   "id": "41f867e0",
   "metadata": {},
   "outputs": [
    {
     "data": {
      "text/plain": [
       "GradientBoostingClassifier(n_estimators=5)"
      ]
     },
     "execution_count": 67,
     "metadata": {},
     "output_type": "execute_result"
    }
   ],
   "source": [
    "gbcbest.fit(X_train_scaleds,y_train)"
   ]
  },
  {
   "cell_type": "markdown",
   "id": "eb9d4741",
   "metadata": {},
   "source": [
    "## Model Evaluation"
   ]
  },
  {
   "cell_type": "markdown",
   "id": "c76d9449",
   "metadata": {},
   "source": [
    "Setelah melakukan model traning, saya melakukan model evaluation. Disini saya menggunakan accuracy score, cross validate, dan classification report, serta recall score:"
   ]
  },
  {
   "cell_type": "code",
   "execution_count": 68,
   "id": "19a91c1e",
   "metadata": {},
   "outputs": [
    {
     "name": "stdout",
     "output_type": "stream",
     "text": [
      "Accuracy of Gradient Boost Classifier on training set: 0.88\n",
      "Accuracy of Gradient Boost Classifier on test set: 0.84\n",
      "Accuracy Score: 0.8362068965517241\n"
     ]
    }
   ],
   "source": [
    "from sklearn.metrics import accuracy_score\n",
    "print('Accuracy of Gradient Boost Classifier on training set: {:.2f}'.format(gbcbest.score(X_train_scaleds, y_train)))\n",
    "print('Accuracy of Gradient Boost Classifier on test set: {:.2f}'.format(gbcbest.score(X_test_scaleds, y_test)))\n",
    "\n",
    "pred = gbcbest.predict(X_test_scaleds)\n",
    "print(\"Accuracy Score: {}\".format(accuracy_score(y_test, pred)))"
   ]
  },
  {
   "cell_type": "code",
   "execution_count": 69,
   "id": "8ed32c4b",
   "metadata": {},
   "outputs": [
    {
     "name": "stdout",
     "output_type": "stream",
     "text": [
      "Average score of Train Cross Validation is 0.8438655462184874\n",
      "Average score of Test Cross Validation is 0.8018115942028985\n"
     ]
    }
   ],
   "source": [
    "from sklearn.model_selection import cross_validate\n",
    "\n",
    "cv_results_gbc = cross_validate(gbcbest, X_train_scaleds,y_train, scoring=('accuracy'), return_train_score=True)\n",
    "print(f\"Average score of Train Cross Validation is {cv_results_gbc['test_score'].mean()}\")\n",
    "\n",
    "cv_results_gbc_test = cross_validate(gbcbest, X_test_scaleds,y_test, scoring=('accuracy'), return_train_score=True)\n",
    "print(f\"Average score of Test Cross Validation is {cv_results_gbc_test['test_score'].mean()}\")"
   ]
  },
  {
   "cell_type": "code",
   "execution_count": 70,
   "id": "efa4bd39",
   "metadata": {},
   "outputs": [
    {
     "name": "stdout",
     "output_type": "stream",
     "text": [
      "              precision    recall  f1-score   support\n",
      "\n",
      "           0       0.83      0.95      0.89        79\n",
      "           1       0.85      0.59      0.70        37\n",
      "\n",
      "    accuracy                           0.84       116\n",
      "   macro avg       0.84      0.77      0.79       116\n",
      "weighted avg       0.84      0.84      0.83       116\n",
      "\n"
     ]
    }
   ],
   "source": [
    "from sklearn.metrics import classification_report\n",
    "\n",
    "print(classification_report(y_test, pred))"
   ]
  },
  {
   "cell_type": "code",
   "execution_count": 71,
   "id": "811e5991",
   "metadata": {},
   "outputs": [
    {
     "name": "stdout",
     "output_type": "stream",
     "text": [
      "Recall: 0.594595 \n"
     ]
    }
   ],
   "source": [
    "from sklearn.metrics import recall_score\n",
    "\n",
    "print(\"Recall: %f \"%recall_score(y_test, pred))"
   ]
  },
  {
   "cell_type": "markdown",
   "id": "244ca556",
   "metadata": {},
   "source": [
    "Dari hasil evaluasi ini, baik dari accuracy score, cross validation, maupun classification report, dapat dilihat bahwa hasil prediksi menggunakan Gradient Boosting Classifier jauh lebih baik daripada menggunakan Random Forest Classifier. Meskipun nilai Recall masih paling baik dimiliki oleh Random Forest Classifier."
   ]
  },
  {
   "cell_type": "markdown",
   "id": "76e28096",
   "metadata": {},
   "source": [
    "# Adaboost Classifier"
   ]
  },
  {
   "cell_type": "markdown",
   "id": "ccdf72b5",
   "metadata": {},
   "source": [
    "Sebagai tambahan, saya juga mencoba menggunakan AdaBoost Classifier"
   ]
  },
  {
   "cell_type": "markdown",
   "id": "0453c5e7",
   "metadata": {},
   "source": [
    "## Model Training"
   ]
  },
  {
   "cell_type": "markdown",
   "id": "a47fbfce",
   "metadata": {},
   "source": [
    "Saya kembali mengimport library yang dibutuhkan:"
   ]
  },
  {
   "cell_type": "code",
   "execution_count": 72,
   "id": "a386c365",
   "metadata": {},
   "outputs": [],
   "source": [
    "from sklearn.ensemble import AdaBoostClassifier"
   ]
  },
  {
   "cell_type": "code",
   "execution_count": 73,
   "id": "03659615",
   "metadata": {},
   "outputs": [],
   "source": [
    "abc = AdaBoostClassifier()\n",
    "parameters_1 = {\n",
    "    \"n_estimators\":[5,10,50,250],\n",
    "    \"learning_rate\":[0.01,0.1,1, 10],\n",
    "    \"algorithm\":['SAMME', 'SAMME.R']}"
   ]
  },
  {
   "cell_type": "markdown",
   "id": "016d4fe8",
   "metadata": {},
   "source": [
    "Lalu melakukan hyperparameter tuning dengan GridSearchCV"
   ]
  },
  {
   "cell_type": "code",
   "execution_count": 74,
   "id": "b1623500",
   "metadata": {},
   "outputs": [],
   "source": [
    "abcv = GridSearchCV(abc,param_grid = parameters_1,cv=5, scoring=\"accuracy\")"
   ]
  },
  {
   "cell_type": "code",
   "execution_count": 75,
   "id": "4c417c38",
   "metadata": {},
   "outputs": [
    {
     "name": "stdout",
     "output_type": "stream",
     "text": [
      "Wall time: 11.2 s\n"
     ]
    },
    {
     "data": {
      "text/plain": [
       "GridSearchCV(cv=5, estimator=AdaBoostClassifier(),\n",
       "             param_grid={'algorithm': ['SAMME', 'SAMME.R'],\n",
       "                         'learning_rate': [0.01, 0.1, 1, 10],\n",
       "                         'n_estimators': [5, 10, 50, 250]},\n",
       "             scoring='accuracy')"
      ]
     },
     "execution_count": 75,
     "metadata": {},
     "output_type": "execute_result"
    }
   ],
   "source": [
    "%%time\n",
    "abcv.fit(X_train_scaleds, y_train)"
   ]
  },
  {
   "cell_type": "code",
   "execution_count": 89,
   "id": "40c86e81",
   "metadata": {},
   "outputs": [
    {
     "name": "stdout",
     "output_type": "stream",
     "text": [
      "Tuned AdaBoost Classifier Parameters: {'algorithm': 'SAMME.R', 'learning_rate': 0.01, 'n_estimators': 250}\n",
      "Best score is 0.8435294117647059\n"
     ]
    }
   ],
   "source": [
    "# Print the tuned parameters and score\n",
    "print(\"Tuned AdaBoost Classifier Parameters: {}\".format(abcv.best_params_)) \n",
    "\n",
    "print(\"Best score is {}\".format(abcv.best_score_))"
   ]
  },
  {
   "cell_type": "markdown",
   "id": "1b34b2e7",
   "metadata": {},
   "source": [
    "Kemudian, melakukan training dengan parameter yang telah di tuning sebelumnya:"
   ]
  },
  {
   "cell_type": "code",
   "execution_count": 77,
   "id": "fdf184b4",
   "metadata": {},
   "outputs": [],
   "source": [
    "abcbest = AdaBoostClassifier(learning_rate = abcv.best_params_['learning_rate'],\n",
    "                                algorithm = abcv.best_params_['algorithm'],\n",
    "                                n_estimators = abcv.best_params_['n_estimators'])"
   ]
  },
  {
   "cell_type": "code",
   "execution_count": 78,
   "id": "0852ed99",
   "metadata": {},
   "outputs": [
    {
     "data": {
      "text/plain": [
       "AdaBoostClassifier(learning_rate=0.01, n_estimators=250)"
      ]
     },
     "execution_count": 78,
     "metadata": {},
     "output_type": "execute_result"
    }
   ],
   "source": [
    "abcbest.fit(X_train_scaleds,y_train)"
   ]
  },
  {
   "cell_type": "markdown",
   "id": "cc099627",
   "metadata": {},
   "source": [
    "## Model Evaluation"
   ]
  },
  {
   "cell_type": "markdown",
   "id": "ef5290bd",
   "metadata": {},
   "source": [
    "Setelah melakukan model traning, saya melakukan model evaluation. Disini saya menggunakan accuracy score, cross validate, dan classification report, serta recall score:"
   ]
  },
  {
   "cell_type": "code",
   "execution_count": 90,
   "id": "e5ce285b",
   "metadata": {},
   "outputs": [
    {
     "name": "stdout",
     "output_type": "stream",
     "text": [
      "Accuracy of AdaBoost Classifier on training set: 0.87\n",
      "Accuracy of AdaBoost Boost Classifier on test set: 0.85\n",
      "Accuracy Score: 0.853448275862069\n"
     ]
    }
   ],
   "source": [
    "from sklearn.metrics import accuracy_score\n",
    "print('Accuracy of AdaBoost Classifier on training set: {:.2f}'.format(abcbest.score(X_train_scaleds, y_train)))\n",
    "print('Accuracy of AdaBoost Boost Classifier on test set: {:.2f}'.format(abcbest.score(X_test_scaleds, y_test)))\n",
    "\n",
    "pred = abcbest.predict(X_test_scaleds)\n",
    "print(\"Accuracy Score: {}\".format(accuracy_score(y_test, pred)))"
   ]
  },
  {
   "cell_type": "code",
   "execution_count": 80,
   "id": "6a077fdc",
   "metadata": {},
   "outputs": [
    {
     "name": "stdout",
     "output_type": "stream",
     "text": [
      "Average score of Train Cross Validation is 0.8435294117647059\n",
      "Average score of Test Cross Validation is 0.8615942028985508\n"
     ]
    }
   ],
   "source": [
    "from sklearn.model_selection import cross_validate\n",
    "\n",
    "cv_results_abc = cross_validate(abcbest, X_train_scaleds,y_train, scoring=('accuracy'), return_train_score=True)\n",
    "print(f\"Average score of Train Cross Validation is {cv_results_abc['test_score'].mean()}\")\n",
    "\n",
    "cv_results_abc_test = cross_validate(abcbest, X_test_scaleds,y_test, scoring=('accuracy'), return_train_score=True)\n",
    "print(f\"Average score of Test Cross Validation is {cv_results_abc_test['test_score'].mean()}\")"
   ]
  },
  {
   "cell_type": "code",
   "execution_count": 81,
   "id": "53360b0f",
   "metadata": {},
   "outputs": [
    {
     "name": "stdout",
     "output_type": "stream",
     "text": [
      "              precision    recall  f1-score   support\n",
      "\n",
      "           0       0.85      0.95      0.90        79\n",
      "           1       0.86      0.65      0.74        37\n",
      "\n",
      "    accuracy                           0.85       116\n",
      "   macro avg       0.85      0.80      0.82       116\n",
      "weighted avg       0.85      0.85      0.85       116\n",
      "\n"
     ]
    }
   ],
   "source": [
    "from sklearn.metrics import classification_report\n",
    "\n",
    "print(classification_report(y_test, pred))"
   ]
  },
  {
   "cell_type": "code",
   "execution_count": 82,
   "id": "cd189bf7",
   "metadata": {},
   "outputs": [
    {
     "name": "stdout",
     "output_type": "stream",
     "text": [
      "Recall: 0.648649 \n"
     ]
    }
   ],
   "source": [
    "from sklearn.metrics import recall_score\n",
    "\n",
    "print(\"Recall: %f \"%recall_score(y_test, pred))"
   ]
  },
  {
   "cell_type": "markdown",
   "id": "a4d1a88e",
   "metadata": {},
   "source": [
    "Dari hasil evaluasi ini, baik dari akurasi maupun recall score, dapat dlihat bahwa AdaBoost Classifier tidak memberikan nilai yang lebih baik dari Gradient Boosting Classifier."
   ]
  },
  {
   "cell_type": "markdown",
   "id": "25857963",
   "metadata": {},
   "source": [
    "## Model Inference"
   ]
  },
  {
   "cell_type": "markdown",
   "id": "4fe4b0c9",
   "metadata": {},
   "source": [
    "Kemudian, masuk ke model inference. Saya menggunakan algoritma AdaBoost Classifier pada model inference ini. Berikut adalah data inference yang sebelumnya telah dipisahkan dari data training dan testing:"
   ]
  },
  {
   "cell_type": "code",
   "execution_count": 83,
   "id": "67da458d",
   "metadata": {},
   "outputs": [
    {
     "data": {
      "text/html": [
       "<div>\n",
       "<style scoped>\n",
       "    .dataframe tbody tr th:only-of-type {\n",
       "        vertical-align: middle;\n",
       "    }\n",
       "\n",
       "    .dataframe tbody tr th {\n",
       "        vertical-align: top;\n",
       "    }\n",
       "\n",
       "    .dataframe thead th {\n",
       "        text-align: right;\n",
       "    }\n",
       "</style>\n",
       "<table border=\"1\" class=\"dataframe\">\n",
       "  <thead>\n",
       "    <tr style=\"text-align: right;\">\n",
       "      <th></th>\n",
       "      <th>age</th>\n",
       "      <th>anaemia</th>\n",
       "      <th>creatinine_phosphokinase</th>\n",
       "      <th>diabetes</th>\n",
       "      <th>ejection_fraction</th>\n",
       "      <th>high_blood_pressure</th>\n",
       "      <th>platelets</th>\n",
       "      <th>serum_creatinine</th>\n",
       "      <th>serum_sodium</th>\n",
       "      <th>sex</th>\n",
       "      <th>smoking</th>\n",
       "      <th>time</th>\n",
       "      <th>DEATH_EVENT</th>\n",
       "    </tr>\n",
       "  </thead>\n",
       "  <tbody>\n",
       "    <tr>\n",
       "      <th>0</th>\n",
       "      <td>85.0</td>\n",
       "      <td>0</td>\n",
       "      <td>129</td>\n",
       "      <td>0</td>\n",
       "      <td>60</td>\n",
       "      <td>0</td>\n",
       "      <td>306000.00</td>\n",
       "      <td>1.20</td>\n",
       "      <td>132</td>\n",
       "      <td>1</td>\n",
       "      <td>1</td>\n",
       "      <td>90</td>\n",
       "      <td>1</td>\n",
       "    </tr>\n",
       "    <tr>\n",
       "      <th>1</th>\n",
       "      <td>70.0</td>\n",
       "      <td>1</td>\n",
       "      <td>75</td>\n",
       "      <td>0</td>\n",
       "      <td>35</td>\n",
       "      <td>0</td>\n",
       "      <td>223000.00</td>\n",
       "      <td>2.70</td>\n",
       "      <td>138</td>\n",
       "      <td>1</td>\n",
       "      <td>1</td>\n",
       "      <td>54</td>\n",
       "      <td>0</td>\n",
       "    </tr>\n",
       "    <tr>\n",
       "      <th>2</th>\n",
       "      <td>60.0</td>\n",
       "      <td>1</td>\n",
       "      <td>1082</td>\n",
       "      <td>1</td>\n",
       "      <td>45</td>\n",
       "      <td>0</td>\n",
       "      <td>250000.00</td>\n",
       "      <td>6.10</td>\n",
       "      <td>131</td>\n",
       "      <td>1</td>\n",
       "      <td>0</td>\n",
       "      <td>107</td>\n",
       "      <td>0</td>\n",
       "    </tr>\n",
       "    <tr>\n",
       "      <th>3</th>\n",
       "      <td>45.0</td>\n",
       "      <td>0</td>\n",
       "      <td>308</td>\n",
       "      <td>1</td>\n",
       "      <td>60</td>\n",
       "      <td>1</td>\n",
       "      <td>377000.00</td>\n",
       "      <td>1.00</td>\n",
       "      <td>136</td>\n",
       "      <td>1</td>\n",
       "      <td>0</td>\n",
       "      <td>186</td>\n",
       "      <td>0</td>\n",
       "    </tr>\n",
       "    <tr>\n",
       "      <th>4</th>\n",
       "      <td>50.0</td>\n",
       "      <td>0</td>\n",
       "      <td>124</td>\n",
       "      <td>1</td>\n",
       "      <td>30</td>\n",
       "      <td>1</td>\n",
       "      <td>153000.00</td>\n",
       "      <td>1.20</td>\n",
       "      <td>136</td>\n",
       "      <td>0</td>\n",
       "      <td>1</td>\n",
       "      <td>32</td>\n",
       "      <td>1</td>\n",
       "    </tr>\n",
       "    <tr>\n",
       "      <th>5</th>\n",
       "      <td>50.0</td>\n",
       "      <td>1</td>\n",
       "      <td>1051</td>\n",
       "      <td>1</td>\n",
       "      <td>30</td>\n",
       "      <td>0</td>\n",
       "      <td>232000.00</td>\n",
       "      <td>0.70</td>\n",
       "      <td>136</td>\n",
       "      <td>0</td>\n",
       "      <td>0</td>\n",
       "      <td>246</td>\n",
       "      <td>0</td>\n",
       "    </tr>\n",
       "    <tr>\n",
       "      <th>6</th>\n",
       "      <td>65.0</td>\n",
       "      <td>0</td>\n",
       "      <td>582</td>\n",
       "      <td>1</td>\n",
       "      <td>30</td>\n",
       "      <td>0</td>\n",
       "      <td>249000.00</td>\n",
       "      <td>1.30</td>\n",
       "      <td>136</td>\n",
       "      <td>1</td>\n",
       "      <td>1</td>\n",
       "      <td>212</td>\n",
       "      <td>0</td>\n",
       "    </tr>\n",
       "    <tr>\n",
       "      <th>7</th>\n",
       "      <td>55.0</td>\n",
       "      <td>1</td>\n",
       "      <td>180</td>\n",
       "      <td>0</td>\n",
       "      <td>45</td>\n",
       "      <td>0</td>\n",
       "      <td>263358.03</td>\n",
       "      <td>1.18</td>\n",
       "      <td>137</td>\n",
       "      <td>1</td>\n",
       "      <td>1</td>\n",
       "      <td>211</td>\n",
       "      <td>0</td>\n",
       "    </tr>\n",
       "    <tr>\n",
       "      <th>8</th>\n",
       "      <td>50.0</td>\n",
       "      <td>0</td>\n",
       "      <td>1846</td>\n",
       "      <td>1</td>\n",
       "      <td>35</td>\n",
       "      <td>0</td>\n",
       "      <td>263358.03</td>\n",
       "      <td>1.18</td>\n",
       "      <td>137</td>\n",
       "      <td>1</td>\n",
       "      <td>1</td>\n",
       "      <td>119</td>\n",
       "      <td>0</td>\n",
       "    </tr>\n",
       "    <tr>\n",
       "      <th>9</th>\n",
       "      <td>72.0</td>\n",
       "      <td>0</td>\n",
       "      <td>233</td>\n",
       "      <td>0</td>\n",
       "      <td>45</td>\n",
       "      <td>1</td>\n",
       "      <td>235000.00</td>\n",
       "      <td>2.50</td>\n",
       "      <td>135</td>\n",
       "      <td>0</td>\n",
       "      <td>0</td>\n",
       "      <td>115</td>\n",
       "      <td>1</td>\n",
       "    </tr>\n",
       "  </tbody>\n",
       "</table>\n",
       "</div>"
      ],
      "text/plain": [
       "    age  anaemia  creatinine_phosphokinase  diabetes  ejection_fraction  \\\n",
       "0  85.0        0                       129         0                 60   \n",
       "1  70.0        1                        75         0                 35   \n",
       "2  60.0        1                      1082         1                 45   \n",
       "3  45.0        0                       308         1                 60   \n",
       "4  50.0        0                       124         1                 30   \n",
       "5  50.0        1                      1051         1                 30   \n",
       "6  65.0        0                       582         1                 30   \n",
       "7  55.0        1                       180         0                 45   \n",
       "8  50.0        0                      1846         1                 35   \n",
       "9  72.0        0                       233         0                 45   \n",
       "\n",
       "   high_blood_pressure  platelets  serum_creatinine  serum_sodium  sex  \\\n",
       "0                    0  306000.00              1.20           132    1   \n",
       "1                    0  223000.00              2.70           138    1   \n",
       "2                    0  250000.00              6.10           131    1   \n",
       "3                    1  377000.00              1.00           136    1   \n",
       "4                    1  153000.00              1.20           136    0   \n",
       "5                    0  232000.00              0.70           136    0   \n",
       "6                    0  249000.00              1.30           136    1   \n",
       "7                    0  263358.03              1.18           137    1   \n",
       "8                    0  263358.03              1.18           137    1   \n",
       "9                    1  235000.00              2.50           135    0   \n",
       "\n",
       "   smoking  time  DEATH_EVENT  \n",
       "0        1    90            1  \n",
       "1        1    54            0  \n",
       "2        0   107            0  \n",
       "3        0   186            0  \n",
       "4        1    32            1  \n",
       "5        0   246            0  \n",
       "6        1   212            0  \n",
       "7        1   211            0  \n",
       "8        1   119            0  \n",
       "9        0   115            1  "
      ]
     },
     "execution_count": 83,
     "metadata": {},
     "output_type": "execute_result"
    }
   ],
   "source": [
    "data_inf"
   ]
  },
  {
   "cell_type": "markdown",
   "id": "a902a808",
   "metadata": {},
   "source": [
    "Seperti sebelumnya, saya melakukan drop columns pada kolom-kolom yang di drop pada data train test"
   ]
  },
  {
   "cell_type": "code",
   "execution_count": 84,
   "id": "94ef6610",
   "metadata": {},
   "outputs": [],
   "source": [
    "data_inf_c = data_inf.drop(columns=['creatinine_phosphokinase', 'diabetes', 'DEATH_EVENT'])"
   ]
  },
  {
   "cell_type": "markdown",
   "id": "6c4960ac",
   "metadata": {},
   "source": [
    "dan langsung masuk ke scaling (karena data ini tidak memiliki kolom kategorikal untuk di encoding)"
   ]
  },
  {
   "cell_type": "code",
   "execution_count": 85,
   "id": "26f80ca5",
   "metadata": {},
   "outputs": [
    {
     "data": {
      "text/plain": [
       "StandardScaler()"
      ]
     },
     "execution_count": 85,
     "metadata": {},
     "output_type": "execute_result"
    }
   ],
   "source": [
    "scaler = StandardScaler()\n",
    "scaler.fit(X_train_scaleds)"
   ]
  },
  {
   "cell_type": "code",
   "execution_count": 86,
   "id": "0b88d397",
   "metadata": {},
   "outputs": [],
   "source": [
    "data_inf_fins = scaler.transform(data_inf_c)"
   ]
  },
  {
   "cell_type": "markdown",
   "id": "cb1f919d",
   "metadata": {},
   "source": [
    "## Predict Model Inference"
   ]
  },
  {
   "cell_type": "markdown",
   "id": "f12fbe5a",
   "metadata": {},
   "source": [
    "Menggunakan data inference yang telah di prepare ini, saya melakukan predict dengan menggunakan algoritma Gradient Boosting Classifier dan menunjukkan hasil prediksinya:"
   ]
  },
  {
   "cell_type": "code",
   "execution_count": 91,
   "id": "184d1856",
   "metadata": {},
   "outputs": [
    {
     "data": {
      "text/html": [
       "<div>\n",
       "<style scoped>\n",
       "    .dataframe tbody tr th:only-of-type {\n",
       "        vertical-align: middle;\n",
       "    }\n",
       "\n",
       "    .dataframe tbody tr th {\n",
       "        vertical-align: top;\n",
       "    }\n",
       "\n",
       "    .dataframe thead th {\n",
       "        text-align: right;\n",
       "    }\n",
       "</style>\n",
       "<table border=\"1\" class=\"dataframe\">\n",
       "  <thead>\n",
       "    <tr style=\"text-align: right;\">\n",
       "      <th></th>\n",
       "      <th>DEATH - Prediction</th>\n",
       "    </tr>\n",
       "  </thead>\n",
       "  <tbody>\n",
       "    <tr>\n",
       "      <th>0</th>\n",
       "      <td>0</td>\n",
       "    </tr>\n",
       "    <tr>\n",
       "      <th>1</th>\n",
       "      <td>0</td>\n",
       "    </tr>\n",
       "    <tr>\n",
       "      <th>2</th>\n",
       "      <td>0</td>\n",
       "    </tr>\n",
       "    <tr>\n",
       "      <th>3</th>\n",
       "      <td>0</td>\n",
       "    </tr>\n",
       "    <tr>\n",
       "      <th>4</th>\n",
       "      <td>0</td>\n",
       "    </tr>\n",
       "    <tr>\n",
       "      <th>5</th>\n",
       "      <td>0</td>\n",
       "    </tr>\n",
       "    <tr>\n",
       "      <th>6</th>\n",
       "      <td>0</td>\n",
       "    </tr>\n",
       "    <tr>\n",
       "      <th>7</th>\n",
       "      <td>0</td>\n",
       "    </tr>\n",
       "    <tr>\n",
       "      <th>8</th>\n",
       "      <td>0</td>\n",
       "    </tr>\n",
       "    <tr>\n",
       "      <th>9</th>\n",
       "      <td>0</td>\n",
       "    </tr>\n",
       "  </tbody>\n",
       "</table>\n",
       "</div>"
      ],
      "text/plain": [
       "   DEATH - Prediction\n",
       "0                   0\n",
       "1                   0\n",
       "2                   0\n",
       "3                   0\n",
       "4                   0\n",
       "5                   0\n",
       "6                   0\n",
       "7                   0\n",
       "8                   0\n",
       "9                   0"
      ]
     },
     "execution_count": 91,
     "metadata": {},
     "output_type": "execute_result"
    }
   ],
   "source": [
    "#predict model inference\n",
    "\n",
    "y_pred_infs = abcbest.predict(data_inf_fins)\n",
    "y_pred_infs = pd.DataFrame(y_pred_infs, columns = ['DEATH - Prediction'])\n",
    "y_pred_infs"
   ]
  },
  {
   "cell_type": "markdown",
   "id": "efceb87b",
   "metadata": {},
   "source": [
    "Hasil prediksi tersebut kemudian saya gabungkan dengan dataset inference awal;"
   ]
  },
  {
   "cell_type": "code",
   "execution_count": 92,
   "id": "362c22a4",
   "metadata": {
    "scrolled": true
   },
   "outputs": [
    {
     "data": {
      "text/html": [
       "<div>\n",
       "<style scoped>\n",
       "    .dataframe tbody tr th:only-of-type {\n",
       "        vertical-align: middle;\n",
       "    }\n",
       "\n",
       "    .dataframe tbody tr th {\n",
       "        vertical-align: top;\n",
       "    }\n",
       "\n",
       "    .dataframe thead th {\n",
       "        text-align: right;\n",
       "    }\n",
       "</style>\n",
       "<table border=\"1\" class=\"dataframe\">\n",
       "  <thead>\n",
       "    <tr style=\"text-align: right;\">\n",
       "      <th></th>\n",
       "      <th>age</th>\n",
       "      <th>anaemia</th>\n",
       "      <th>creatinine_phosphokinase</th>\n",
       "      <th>diabetes</th>\n",
       "      <th>ejection_fraction</th>\n",
       "      <th>high_blood_pressure</th>\n",
       "      <th>platelets</th>\n",
       "      <th>serum_creatinine</th>\n",
       "      <th>serum_sodium</th>\n",
       "      <th>sex</th>\n",
       "      <th>smoking</th>\n",
       "      <th>time</th>\n",
       "      <th>DEATH_EVENT</th>\n",
       "      <th>DEATH - Prediction</th>\n",
       "    </tr>\n",
       "  </thead>\n",
       "  <tbody>\n",
       "    <tr>\n",
       "      <th>0</th>\n",
       "      <td>85.0</td>\n",
       "      <td>0</td>\n",
       "      <td>129</td>\n",
       "      <td>0</td>\n",
       "      <td>60</td>\n",
       "      <td>0</td>\n",
       "      <td>306000.00</td>\n",
       "      <td>1.20</td>\n",
       "      <td>132</td>\n",
       "      <td>1</td>\n",
       "      <td>1</td>\n",
       "      <td>90</td>\n",
       "      <td>1</td>\n",
       "      <td>0</td>\n",
       "    </tr>\n",
       "    <tr>\n",
       "      <th>1</th>\n",
       "      <td>70.0</td>\n",
       "      <td>1</td>\n",
       "      <td>75</td>\n",
       "      <td>0</td>\n",
       "      <td>35</td>\n",
       "      <td>0</td>\n",
       "      <td>223000.00</td>\n",
       "      <td>2.70</td>\n",
       "      <td>138</td>\n",
       "      <td>1</td>\n",
       "      <td>1</td>\n",
       "      <td>54</td>\n",
       "      <td>0</td>\n",
       "      <td>0</td>\n",
       "    </tr>\n",
       "    <tr>\n",
       "      <th>2</th>\n",
       "      <td>60.0</td>\n",
       "      <td>1</td>\n",
       "      <td>1082</td>\n",
       "      <td>1</td>\n",
       "      <td>45</td>\n",
       "      <td>0</td>\n",
       "      <td>250000.00</td>\n",
       "      <td>6.10</td>\n",
       "      <td>131</td>\n",
       "      <td>1</td>\n",
       "      <td>0</td>\n",
       "      <td>107</td>\n",
       "      <td>0</td>\n",
       "      <td>0</td>\n",
       "    </tr>\n",
       "    <tr>\n",
       "      <th>3</th>\n",
       "      <td>45.0</td>\n",
       "      <td>0</td>\n",
       "      <td>308</td>\n",
       "      <td>1</td>\n",
       "      <td>60</td>\n",
       "      <td>1</td>\n",
       "      <td>377000.00</td>\n",
       "      <td>1.00</td>\n",
       "      <td>136</td>\n",
       "      <td>1</td>\n",
       "      <td>0</td>\n",
       "      <td>186</td>\n",
       "      <td>0</td>\n",
       "      <td>0</td>\n",
       "    </tr>\n",
       "    <tr>\n",
       "      <th>4</th>\n",
       "      <td>50.0</td>\n",
       "      <td>0</td>\n",
       "      <td>124</td>\n",
       "      <td>1</td>\n",
       "      <td>30</td>\n",
       "      <td>1</td>\n",
       "      <td>153000.00</td>\n",
       "      <td>1.20</td>\n",
       "      <td>136</td>\n",
       "      <td>0</td>\n",
       "      <td>1</td>\n",
       "      <td>32</td>\n",
       "      <td>1</td>\n",
       "      <td>0</td>\n",
       "    </tr>\n",
       "    <tr>\n",
       "      <th>5</th>\n",
       "      <td>50.0</td>\n",
       "      <td>1</td>\n",
       "      <td>1051</td>\n",
       "      <td>1</td>\n",
       "      <td>30</td>\n",
       "      <td>0</td>\n",
       "      <td>232000.00</td>\n",
       "      <td>0.70</td>\n",
       "      <td>136</td>\n",
       "      <td>0</td>\n",
       "      <td>0</td>\n",
       "      <td>246</td>\n",
       "      <td>0</td>\n",
       "      <td>0</td>\n",
       "    </tr>\n",
       "    <tr>\n",
       "      <th>6</th>\n",
       "      <td>65.0</td>\n",
       "      <td>0</td>\n",
       "      <td>582</td>\n",
       "      <td>1</td>\n",
       "      <td>30</td>\n",
       "      <td>0</td>\n",
       "      <td>249000.00</td>\n",
       "      <td>1.30</td>\n",
       "      <td>136</td>\n",
       "      <td>1</td>\n",
       "      <td>1</td>\n",
       "      <td>212</td>\n",
       "      <td>0</td>\n",
       "      <td>0</td>\n",
       "    </tr>\n",
       "    <tr>\n",
       "      <th>7</th>\n",
       "      <td>55.0</td>\n",
       "      <td>1</td>\n",
       "      <td>180</td>\n",
       "      <td>0</td>\n",
       "      <td>45</td>\n",
       "      <td>0</td>\n",
       "      <td>263358.03</td>\n",
       "      <td>1.18</td>\n",
       "      <td>137</td>\n",
       "      <td>1</td>\n",
       "      <td>1</td>\n",
       "      <td>211</td>\n",
       "      <td>0</td>\n",
       "      <td>0</td>\n",
       "    </tr>\n",
       "    <tr>\n",
       "      <th>8</th>\n",
       "      <td>50.0</td>\n",
       "      <td>0</td>\n",
       "      <td>1846</td>\n",
       "      <td>1</td>\n",
       "      <td>35</td>\n",
       "      <td>0</td>\n",
       "      <td>263358.03</td>\n",
       "      <td>1.18</td>\n",
       "      <td>137</td>\n",
       "      <td>1</td>\n",
       "      <td>1</td>\n",
       "      <td>119</td>\n",
       "      <td>0</td>\n",
       "      <td>0</td>\n",
       "    </tr>\n",
       "    <tr>\n",
       "      <th>9</th>\n",
       "      <td>72.0</td>\n",
       "      <td>0</td>\n",
       "      <td>233</td>\n",
       "      <td>0</td>\n",
       "      <td>45</td>\n",
       "      <td>1</td>\n",
       "      <td>235000.00</td>\n",
       "      <td>2.50</td>\n",
       "      <td>135</td>\n",
       "      <td>0</td>\n",
       "      <td>0</td>\n",
       "      <td>115</td>\n",
       "      <td>1</td>\n",
       "      <td>0</td>\n",
       "    </tr>\n",
       "  </tbody>\n",
       "</table>\n",
       "</div>"
      ],
      "text/plain": [
       "    age  anaemia  creatinine_phosphokinase  diabetes  ejection_fraction  \\\n",
       "0  85.0        0                       129         0                 60   \n",
       "1  70.0        1                        75         0                 35   \n",
       "2  60.0        1                      1082         1                 45   \n",
       "3  45.0        0                       308         1                 60   \n",
       "4  50.0        0                       124         1                 30   \n",
       "5  50.0        1                      1051         1                 30   \n",
       "6  65.0        0                       582         1                 30   \n",
       "7  55.0        1                       180         0                 45   \n",
       "8  50.0        0                      1846         1                 35   \n",
       "9  72.0        0                       233         0                 45   \n",
       "\n",
       "   high_blood_pressure  platelets  serum_creatinine  serum_sodium  sex  \\\n",
       "0                    0  306000.00              1.20           132    1   \n",
       "1                    0  223000.00              2.70           138    1   \n",
       "2                    0  250000.00              6.10           131    1   \n",
       "3                    1  377000.00              1.00           136    1   \n",
       "4                    1  153000.00              1.20           136    0   \n",
       "5                    0  232000.00              0.70           136    0   \n",
       "6                    0  249000.00              1.30           136    1   \n",
       "7                    0  263358.03              1.18           137    1   \n",
       "8                    0  263358.03              1.18           137    1   \n",
       "9                    1  235000.00              2.50           135    0   \n",
       "\n",
       "   smoking  time  DEATH_EVENT  DEATH - Prediction  \n",
       "0        1    90            1                   0  \n",
       "1        1    54            0                   0  \n",
       "2        0   107            0                   0  \n",
       "3        0   186            0                   0  \n",
       "4        1    32            1                   0  \n",
       "5        0   246            0                   0  \n",
       "6        1   212            0                   0  \n",
       "7        1   211            0                   0  \n",
       "8        1   119            0                   0  \n",
       "9        0   115            1                   0  "
      ]
     },
     "execution_count": 92,
     "metadata": {},
     "output_type": "execute_result"
    }
   ],
   "source": [
    "##Concate  to Original Inference - Set\n",
    "\n",
    "pd.concat([data_inf, y_pred_infs], axis=1)"
   ]
  },
  {
   "cell_type": "markdown",
   "id": "c1a0499e",
   "metadata": {},
   "source": [
    "# Analysis"
   ]
  },
  {
   "cell_type": "markdown",
   "id": "ea1ed1b9",
   "metadata": {},
   "source": [
    "## Model Analysis"
   ]
  },
  {
   "cell_type": "markdown",
   "id": "c4ff1c0f",
   "metadata": {},
   "source": [
    "### Model Accuracy Analysis"
   ]
  },
  {
   "cell_type": "markdown",
   "id": "3200171f",
   "metadata": {},
   "source": [
    "Pada model analysis ini, digunakan tiga algoritma yang berbeda yaitu Random Forest Classifier (dengan menggunakan 2 approach pada Random Forest classifier, yang pertama dengan base model dan yang kedua dengan hyperparameter tuning) dan Gradient Boost Classifier serta AdaBoost Classifier."
   ]
  },
  {
   "cell_type": "markdown",
   "id": "2f85e1fd",
   "metadata": {},
   "source": [
    "Ada satu hal yang perlu di garisbawahi dari model yang dibuat ini. Yaitu pada saat melakukan training dengan menggunakan base model dari Random Forest Classifier."
   ]
  },
  {
   "cell_type": "markdown",
   "id": "9ac23de3",
   "metadata": {},
   "source": [
    "Pada saat dilakukan evaluasi dengan accuracy score, didapatkan persebaran sebagai berikut:\n",
    "\n",
    "- Accuracy of Random Forest Classifier on training set: 1.00\n",
    "- Accuracy of Random Forest Classifier on test set: 0.83\n",
    "- Accuracy Score: 0.8275862068965517"
   ]
  },
  {
   "cell_type": "markdown",
   "id": "a86afa6f",
   "metadata": {},
   "source": [
    "Nilai 100% accuracy adalah hal yang tidak mungkin. Sehingga ini memberikan suatu indikasi bahwa bisa jadi ada permasalahan pada outliers atau ada permasalahan pada saat melakukan feature engineering"
   ]
  },
  {
   "cell_type": "markdown",
   "id": "34a8d6ad",
   "metadata": {},
   "source": [
    "Namun, pada saat melakukan training kedua menggunakan Random Forest Classifier yang diberikan tuning hyperparameter sebelumnya, nilai accuracy maupun cross validation serta classification reportnya seluruhnya tidak memberikan nilai yang aneh. Secara keseluruhan nilai akurasinya dan cross validationnya kurang lebih sama dengan nilai pada Random Forest Classifier Base Model. Tetapi tidak ada nilai 100% yang aneh tersebut."
   ]
  },
  {
   "cell_type": "markdown",
   "id": "958d4b5d",
   "metadata": {},
   "source": [
    "Sehingga ini menjadi menarik untuk ditinjau lebih lanjut. Terutama setelah dilakukan training ketiga dengan menggunakan Gradient Boosting Classifier yang mana walaupun nilai akurasinya tetap berkisar pada rentang yang sama, namun tidak ada kecenderungan overfitting."
   ]
  },
  {
   "cell_type": "markdown",
   "id": "132aa892",
   "metadata": {},
   "source": [
    "Pada training keempat dengan menggunakan AdaBoost Classifier, nilai akurasinya naik menjadi pada rentang 85% dan tidak terdapat kecenderungan overfitting."
   ]
  },
  {
   "cell_type": "markdown",
   "id": "6c10e012",
   "metadata": {},
   "source": [
    "Sampai disini yang bisa ditarik kesimpulan adalah, data harus ditinjau ulang penanganan outliersnya dan bisa jadi random forest classifier bukanlah algoritma yang tepat untuk dataset ini. Bisa dilakukan evaluasi ulang dengan memanfaatkan Bagging dari ensemble learning."
   ]
  },
  {
   "cell_type": "markdown",
   "id": "56757682",
   "metadata": {},
   "source": [
    "### Model Recall Score Analysis"
   ]
  },
  {
   "cell_type": "markdown",
   "id": "43be9450",
   "metadata": {},
   "source": [
    "Dataset ini merupakan dataset kesehatan yang berupa prediksi apakah seorang pasien bertahan hidup atau meninggal dunia karena gagal jantung. Sangat krusial untuk memerhatikan nilai Recallnya yang menunjukkan adanya false negative, yaitu salah prediksi bahwa seorang pasien akan bertahan hidup padahal pada kenyataannya meninggal."
   ]
  },
  {
   "cell_type": "markdown",
   "id": "a0ea32eb",
   "metadata": {},
   "source": [
    "Dari keempat model ini berikut adalah persebaran nilai Recallnya :\n",
    "- Base Model Random Forest Classifier : 83,78%\n",
    "- Tuned Random Forest Classifier : 78,37%\n",
    "- Tuned Gradient Boosting Classifier : 59,45%\n",
    "- Tuned AdaBoost Classifier : 64,86%"
   ]
  },
  {
   "cell_type": "markdown",
   "id": "5d79dd54",
   "metadata": {},
   "source": [
    "Disini terlihat bahwa Base Model dari Random Forest Classifier memiliki nilai recall yang paling tinggi, menunjukkan tingkat false negative yang paling rendah. Tapi perlu diingat bahwa, akurasi dari Base Model Random Forest ini bukan yang tertinggi."
   ]
  },
  {
   "cell_type": "markdown",
   "id": "b71d7aff",
   "metadata": {},
   "source": [
    "Akurasi paling tinggi dipegang oleh AdaBoost Classifier. "
   ]
  },
  {
   "cell_type": "markdown",
   "id": "a736a198",
   "metadata": {},
   "source": [
    "Disini bisa disimpulkan bahwa harus dicari titik tengah model yang bisa memberikan nilai recall dan akurasi yang optimum. Karena jika hanya salah satu yang tinggi, model ini tetap saja tidak bisa dijadikan acuan."
   ]
  },
  {
   "cell_type": "markdown",
   "id": "d7d40380",
   "metadata": {},
   "source": [
    "## Overall Analysis"
   ]
  },
  {
   "cell_type": "markdown",
   "id": "0cd43230",
   "metadata": {},
   "source": [
    "Dataset dan pemodelan masih bisa dilakukan peninjauan dan evaluasi ulang untuk meningkatkan akurasi dan recall scorenya. "
   ]
  },
  {
   "cell_type": "markdown",
   "id": "70849744",
   "metadata": {},
   "source": [
    "Akurasi terbaik adalah sebesar 85% menggunakan AdaBoost Classifier. Namun ini masih belum cukup akurat untuk model bisa memprediksi kemungkinan bertahan hidup atau meninggal dari pasien cardiac arrest ini karena beberapa hal sebagai berikut:"
   ]
  },
  {
   "cell_type": "markdown",
   "id": "fa8170c1",
   "metadata": {},
   "source": [
    "- Dari EDA pada dataset diketahui bahwa pasien yang meninggal akibat gagal jantung adalah sebanyak 31% dari total pasien (299 orang). Ini berarti 203 pasien bertahan hidup. Dengan akurasi model sebesar 85%, dari 299 total pasien, akan ada 45 orang (atau 15%) yang salah di prediksi apakah ia akan bertahan hidup atau tidak. \n",
    "- Merujuk dari data pasien bahwa 31% berakhir meninggal, angka 15% salah prediksi ini akan bisa berkontribusi meningkatkan jumlah kematian pasien, karena dalam banyak kasus gagal jantung, terjadinya gagal jantung ini merupakan efek dari banyaknya komplikasi seperti umur dan penyakit komorbid, yang jika salah prosedur penanganan dan hipotesis, akan berakibat fatal (kematian). Dari EDA diketahui bahwa kebanyakan pasien adalah usia lanjut dan memiliki penyakit komorbid. Sehingga angka 85% akurasi ini sangat penting untuk ditingkatkan."
   ]
  },
  {
   "cell_type": "markdown",
   "id": "e2e0f19c",
   "metadata": {},
   "source": [
    "Pertimbangan mengenai nilai akurasi tersebut juga didukung oleh nilai recall yang sama sekali belum ditemukan nilai yang memuaskan dari keempat model yang telah digunakan tadi. Karena nilai recall berpengaruh pada tingkat false negative yang mana, False Negative adalah  salah prediksi bahwa seorang pasien akan bertahan hidup padahal pada kenyataannya meninggal.  Nilai recall yang rendah bisa menyebabkan salah diagnosa. "
   ]
  },
  {
   "cell_type": "markdown",
   "id": "fb526475",
   "metadata": {},
   "source": [
    "Sejauh ini nilai recall tertinggi adalah 83,78% yang berarti masih membuka kemungkinan adanya 48 orang (atau 16% dari 299 pasien) yang salah di diagnosis."
   ]
  }
 ],
 "metadata": {
  "kernelspec": {
   "display_name": "Python 3 (ipykernel)",
   "language": "python",
   "name": "python3"
  },
  "language_info": {
   "codemirror_mode": {
    "name": "ipython",
    "version": 3
   },
   "file_extension": ".py",
   "mimetype": "text/x-python",
   "name": "python",
   "nbconvert_exporter": "python",
   "pygments_lexer": "ipython3",
   "version": "3.9.7"
  }
 },
 "nbformat": 4,
 "nbformat_minor": 5
}
